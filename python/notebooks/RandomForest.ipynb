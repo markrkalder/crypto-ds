{
 "cells": [
  {
   "cell_type": "markdown",
   "metadata": {},
   "source": [
    "The very first problem that I had was that I imported about 2 weeks worth of data and the amount was so huge, that I could not even edit the dataframe and add a new column to it. Next I tried to import a smaller amount of data. I imported a day. Even that was too big. In the end I ended up working with a couple of hours worth of data, because otherwise my computer was not able to handle it and I had to spend huge amounts of time just waiting for the code to do something.\n",
    "\n",
    "For actual implementation it is important to use a bigger amount of data obviously. But that would also require a better computer."
   ]
  },
  {
   "cell_type": "code",
   "execution_count": 1,
   "metadata": {},
   "outputs": [
    {
     "name": "stdout",
     "output_type": "stream",
     "text": [
      "            time     price  close        RSI     RMACD       RSD  DBB  \\\n",
      "0  1606687201150  18254.99      0  58.318787 -0.954874  2.919877  0.0   \n",
      "1  1606687201391  18255.00      0  58.321123 -0.954737  2.919883  0.0   \n",
      "2  1606687201400  18255.29      0  58.388949 -0.950777  2.920073  0.0   \n",
      "3  1606687201510  18255.28      0  58.386607 -0.950914  2.920067  0.0   \n",
      "4  1606687201510  18255.14      0  58.353847 -0.952825  2.919974  0.0   \n",
      "\n",
      "     REMA_9    REMA_21    REMA_50  \n",
      "0 -7.998948  11.619434  45.995590  \n",
      "1 -7.994568  11.624419  46.000876  \n",
      "2 -7.867556  11.768988  46.154180  \n",
      "3 -7.871936  11.764003  46.148894  \n",
      "4 -7.933252  11.694211  46.074885  \n"
     ]
    }
   ],
   "source": [
    "import pandas as pd\n",
    "import matplotlib.pyplot as plt\n",
    "from sklearn.ensemble import RandomForestClassifier\n",
    "from sklearn.ensemble import RandomForestRegressor\n",
    "from sklearn.model_selection import RandomizedSearchCV\n",
    "\n",
    "\n",
    "df = pd.read_csv(\"BTCUSDT_2020.11.30-2020.11.30_ML.csv\")\n",
    "print(df.head())"
   ]
  },
  {
   "cell_type": "markdown",
   "metadata": {},
   "source": [
    "This loop is meant to calculate the 'y' column values. For each row the y value will be the maximum price of the next 100 row prices.\n",
    "\n",
    "Also tried with 1000 but I don't see any point in adding another block of code for this, since it is literally just adding one zero to three places."
   ]
  },
  {
   "cell_type": "code",
   "execution_count": 2,
   "metadata": {},
   "outputs": [
    {
     "name": "stdout",
     "output_type": "stream",
     "text": [
      "                time     price  close        RSI      RMACD       RSD  DBB  \\\n",
      "0      1606687201150  18254.99      0  58.318787  -0.954874  2.919877  0.0   \n",
      "1      1606687201391  18255.00      0  58.321123  -0.954737  2.919883  0.0   \n",
      "2      1606687201400  18255.29      0  58.388949  -0.950777  2.920073  0.0   \n",
      "3      1606687201510  18255.28      0  58.386607  -0.950914  2.920067  0.0   \n",
      "4      1606687201510  18255.14      0  58.353847  -0.952825  2.919974  0.0   \n",
      "...              ...       ...    ...        ...        ...       ...  ...   \n",
      "40196  1606690783984  18131.87      0  44.717926  13.686486  4.339018  0.0   \n",
      "40197  1606690784231  18132.59      0  44.813073  13.643993  4.337460  0.0   \n",
      "40198  1606690784693  18132.60      0  44.814398  13.643402  4.337438  0.0   \n",
      "40199  1606690784953  18132.59      0  44.813073  13.643993  4.337460  0.0   \n",
      "40200  1606690785197  18132.60      0  44.814398  13.643402  4.337438  0.0   \n",
      "\n",
      "         REMA_9    REMA_21    REMA_50         y  \n",
      "0     -7.998948  11.619434  45.995590  18260.41  \n",
      "1     -7.994568  11.624419  46.000876  18260.41  \n",
      "2     -7.867556  11.768988  46.154180  18260.41  \n",
      "3     -7.871936  11.764003  46.148894  18260.41  \n",
      "4     -7.933252  11.694211  46.074885  18260.41  \n",
      "...         ...        ...        ...       ...  \n",
      "40196 -4.560307 -17.173593 -12.422978  18138.45  \n",
      "40197 -4.242746 -16.813161 -12.041914  18138.45  \n",
      "40198 -4.238335 -16.808155 -12.036622  18138.45  \n",
      "40199 -4.242746 -16.813161 -12.041914  18138.45  \n",
      "40200 -4.238335 -16.808155 -12.036622  18138.45  \n",
      "\n",
      "[40201 rows x 11 columns]\n"
     ]
    }
   ],
   "source": [
    "max_price = 0.0\n",
    "pricearray = df[\"price\"].values\n",
    "y = []\n",
    "for i in range(len(pricearray)):\n",
    "    for j in range(100):\n",
    "        if pricearray[i+j+1] > max_price:\n",
    "            max_price = pricearray[i+j+1]\n",
    "    y.append(max_price)\n",
    "    max_price = 0.0\n",
    "    if i == len(pricearray)-101:\n",
    "        break\n",
    "df.drop(df.tail(100).index,inplace=True)\n",
    "df[\"y\"] = y\n",
    "X_train = df.drop(['y'], axis=1)\n",
    "y_train = df['y']\n",
    "print(df)\n"
   ]
  },
  {
   "cell_type": "markdown",
   "metadata": {},
   "source": [
    "Before this block I spent quite a large amount of time learning about what exactly the random forest models hyperparameters do, how I should tweak them and what changes they bring. After learning about them I found out about a module called RandomizedSearchCV (and also GridSearchCV). It can help find good hyperparameters for the model. I have talked about the GridSearchCV module a little bit more down below and actually what I should have kept in mind in the first place before optimizing any hyperparameters, but RandomizedSearchCV is actually quite quick. I inserted some values, then changed them according to the results and repeated that process for some times, this way I got a pretty good understanding about what good parameters could be like.\n",
    "\n",
    "RandomizedSearchCV is okay to use with relatively large amount of values, because it is fast, but GridSearchCV is really slow and I think I definitely should have done some plotting before using GridSearchCV (and maybe even before using RandomizedSearchCV).\n"
   ]
  },
  {
   "cell_type": "code",
   "execution_count": 3,
   "metadata": {},
   "outputs": [],
   "source": [
    "from sklearn import preprocessing\n",
    "from sklearn import utils\n",
    "from joblib import parallel_backend\n",
    "from joblib import dump, load\n",
    "from scipy import stats\n",
    "import numpy as np\n",
    "\n",
    "n_estimators = [1500, 1550, 1590, 1595, 1599, 2000, 2005, 2010, 2015, 2020, 2050]\n",
    "max_samples = [900, 1000, 1100]\n",
    "\n",
    "# Number of features to consider at every split\n",
    "max_features = ['auto', 'sqrt']\n",
    "# Maximum number of levels in tree\n",
    "max_depth = [80, 85, 90, 95, 100, 105]\n",
    "\n",
    "max_depth.append(None)\n",
    "# Minimum number of samples required to split a node\n",
    "min_samples_split = [2, 3, 4, 5, 6]\n",
    "# Minimum number of samples required at each leaf node\n",
    "min_samples_leaf = [1, 2, 3, 4, 5]\n",
    "# Minimum number of leaf nodes required\n",
    "max_leaf_nodes = [250, 300, 350, 400, 450, 500, 550, 600, 650, 700]\n",
    "# Method of selecting samples for training each tree\n",
    "bootstrap = [True, False]\n",
    "\n",
    "random_grid = {'n_estimators': n_estimators,\n",
    "               'max_samples': max_samples,\n",
    "               'max_features': max_features,\n",
    "               'max_depth': max_depth,\n",
    "               'min_samples_split': min_samples_split,\n",
    "               'min_samples_leaf': min_samples_leaf,\n",
    "               'max_leaf_nodes':max_leaf_nodes,\n",
    "               'bootstrap': bootstrap}\n",
    "\n",
    "rf = RandomForestRegressor(n_jobs=-1, verbose=1)\n",
    "#print(rf.get_params().keys())\n",
    "random_search = RandomizedSearchCV(estimator=rf, random_state=0, param_distributions=random_grid,\n",
    "                        n_iter=10, cv=3, verbose=10, n_jobs=1, pre_dispatch=1)\n",
    " \n",
    "#Code to save the model into a file so it would be possible to reload it into the project fast\n",
    "#and skip all the training.\n",
    "#dump(rf, 'randomforest.joblib')\n",
    "#rf = load('randomforest.joblib')\n"
   ]
  },
  {
   "cell_type": "markdown",
   "metadata": {},
   "source": [
    "The next cell shows the fitting but also a joblib parallel_backend method, that we did not use in the course, but might become very useful when working with larger amounts of data and more complex models."
   ]
  },
  {
   "cell_type": "code",
   "execution_count": 4,
   "metadata": {
    "scrolled": true
   },
   "outputs": [
    {
     "name": "stdout",
     "output_type": "stream",
     "text": [
      "Fitting 3 folds for each of 10 candidates, totalling 30 fits\n",
      "[CV] n_estimators=2020, min_samples_split=3, min_samples_leaf=5, max_samples=1000, max_leaf_nodes=300, max_features=auto, max_depth=105, bootstrap=False \n"
     ]
    },
    {
     "name": "stderr",
     "output_type": "stream",
     "text": [
      "[Parallel(n_jobs=1)]: Using backend SequentialBackend with 1 concurrent workers.\n",
      "[Parallel(n_jobs=-1)]: Using backend ThreadingBackend with 8 concurrent workers.\n",
      "[Parallel(n_jobs=-1)]: Done  34 tasks      | elapsed:    0.9s\n",
      "[Parallel(n_jobs=-1)]: Done 184 tasks      | elapsed:    4.3s\n",
      "[Parallel(n_jobs=-1)]: Done 434 tasks      | elapsed:   11.9s\n",
      "[Parallel(n_jobs=-1)]: Done 784 tasks      | elapsed:   23.9s\n",
      "[Parallel(n_jobs=-1)]: Done 1234 tasks      | elapsed:   42.4s\n",
      "[Parallel(n_jobs=-1)]: Done 1784 tasks      | elapsed:  1.0min\n",
      "[Parallel(n_jobs=-1)]: Done 2020 out of 2020 | elapsed:  1.2min finished\n",
      "[Parallel(n_jobs=8)]: Using backend ThreadingBackend with 8 concurrent workers.\n",
      "[Parallel(n_jobs=8)]: Done  34 tasks      | elapsed:    0.0s\n",
      "[Parallel(n_jobs=8)]: Done 184 tasks      | elapsed:    0.0s\n",
      "[Parallel(n_jobs=8)]: Done 434 tasks      | elapsed:    0.0s\n",
      "[Parallel(n_jobs=8)]: Done 784 tasks      | elapsed:    0.1s\n",
      "[Parallel(n_jobs=8)]: Done 1234 tasks      | elapsed:    0.2s\n",
      "[Parallel(n_jobs=8)]: Done 1784 tasks      | elapsed:    0.4s\n",
      "[Parallel(n_jobs=8)]: Done 2020 out of 2020 | elapsed:    0.4s finished\n",
      "[Parallel(n_jobs=1)]: Done   1 out of   1 | elapsed:  1.2min remaining:    0.0s\n"
     ]
    },
    {
     "name": "stdout",
     "output_type": "stream",
     "text": [
      "[CV]  n_estimators=2020, min_samples_split=3, min_samples_leaf=5, max_samples=1000, max_leaf_nodes=300, max_features=auto, max_depth=105, bootstrap=False, score=0.563, total= 1.2min\n",
      "[CV] n_estimators=2020, min_samples_split=3, min_samples_leaf=5, max_samples=1000, max_leaf_nodes=300, max_features=auto, max_depth=105, bootstrap=False \n"
     ]
    },
    {
     "name": "stderr",
     "output_type": "stream",
     "text": [
      "[Parallel(n_jobs=-1)]: Using backend ThreadingBackend with 8 concurrent workers.\n",
      "[Parallel(n_jobs=-1)]: Done  34 tasks      | elapsed:    1.5s\n",
      "[Parallel(n_jobs=-1)]: Done 184 tasks      | elapsed:    7.8s\n",
      "[Parallel(n_jobs=-1)]: Done 434 tasks      | elapsed:   17.7s\n",
      "[Parallel(n_jobs=-1)]: Done 784 tasks      | elapsed:   32.2s\n",
      "[Parallel(n_jobs=-1)]: Done 1234 tasks      | elapsed:   50.9s\n",
      "[Parallel(n_jobs=-1)]: Done 1784 tasks      | elapsed:  1.2min\n",
      "[Parallel(n_jobs=-1)]: Done 2020 out of 2020 | elapsed:  1.4min finished\n",
      "[Parallel(n_jobs=8)]: Using backend ThreadingBackend with 8 concurrent workers.\n",
      "[Parallel(n_jobs=8)]: Done  34 tasks      | elapsed:    0.0s\n",
      "[Parallel(n_jobs=8)]: Done 184 tasks      | elapsed:    0.0s\n",
      "[Parallel(n_jobs=8)]: Done 434 tasks      | elapsed:    0.1s\n",
      "[Parallel(n_jobs=8)]: Done 784 tasks      | elapsed:    0.3s\n",
      "[Parallel(n_jobs=8)]: Done 1234 tasks      | elapsed:    0.4s\n",
      "[Parallel(n_jobs=8)]: Done 1784 tasks      | elapsed:    0.7s\n",
      "[Parallel(n_jobs=8)]: Done 2020 out of 2020 | elapsed:    0.8s finished\n",
      "[Parallel(n_jobs=1)]: Done   2 out of   2 | elapsed:  2.7min remaining:    0.0s\n"
     ]
    },
    {
     "name": "stdout",
     "output_type": "stream",
     "text": [
      "[CV]  n_estimators=2020, min_samples_split=3, min_samples_leaf=5, max_samples=1000, max_leaf_nodes=300, max_features=auto, max_depth=105, bootstrap=False, score=0.949, total= 1.5min\n",
      "[CV] n_estimators=2020, min_samples_split=3, min_samples_leaf=5, max_samples=1000, max_leaf_nodes=300, max_features=auto, max_depth=105, bootstrap=False \n"
     ]
    },
    {
     "name": "stderr",
     "output_type": "stream",
     "text": [
      "[Parallel(n_jobs=-1)]: Using backend ThreadingBackend with 8 concurrent workers.\n",
      "[Parallel(n_jobs=-1)]: Done  34 tasks      | elapsed:    1.4s\n",
      "[Parallel(n_jobs=-1)]: Done 184 tasks      | elapsed:    7.2s\n",
      "[Parallel(n_jobs=-1)]: Done 434 tasks      | elapsed:   16.7s\n",
      "[Parallel(n_jobs=-1)]: Done 784 tasks      | elapsed:   30.1s\n",
      "[Parallel(n_jobs=-1)]: Done 1234 tasks      | elapsed:   47.4s\n",
      "[Parallel(n_jobs=-1)]: Done 1784 tasks      | elapsed:  1.1min\n",
      "[Parallel(n_jobs=-1)]: Done 2020 out of 2020 | elapsed:  1.3min finished\n",
      "[Parallel(n_jobs=8)]: Using backend ThreadingBackend with 8 concurrent workers.\n",
      "[Parallel(n_jobs=8)]: Done  34 tasks      | elapsed:    0.0s\n",
      "[Parallel(n_jobs=8)]: Done 184 tasks      | elapsed:    0.0s\n",
      "[Parallel(n_jobs=8)]: Done 434 tasks      | elapsed:    0.1s\n",
      "[Parallel(n_jobs=8)]: Done 784 tasks      | elapsed:    0.2s\n",
      "[Parallel(n_jobs=8)]: Done 1234 tasks      | elapsed:    0.3s\n",
      "[Parallel(n_jobs=8)]: Done 1784 tasks      | elapsed:    0.4s\n",
      "[Parallel(n_jobs=8)]: Done 2020 out of 2020 | elapsed:    0.5s finished\n",
      "[Parallel(n_jobs=1)]: Done   3 out of   3 | elapsed:  4.0min remaining:    0.0s\n"
     ]
    },
    {
     "name": "stdout",
     "output_type": "stream",
     "text": [
      "[CV]  n_estimators=2020, min_samples_split=3, min_samples_leaf=5, max_samples=1000, max_leaf_nodes=300, max_features=auto, max_depth=105, bootstrap=False, score=0.811, total= 1.3min\n",
      "[CV] n_estimators=2010, min_samples_split=2, min_samples_leaf=3, max_samples=1100, max_leaf_nodes=350, max_features=sqrt, max_depth=90, bootstrap=True \n"
     ]
    },
    {
     "name": "stderr",
     "output_type": "stream",
     "text": [
      "[Parallel(n_jobs=-1)]: Using backend ThreadingBackend with 8 concurrent workers.\n",
      "[Parallel(n_jobs=-1)]: Done  34 tasks      | elapsed:    0.0s\n",
      "[Parallel(n_jobs=-1)]: Done 184 tasks      | elapsed:    0.2s\n",
      "[Parallel(n_jobs=-1)]: Done 434 tasks      | elapsed:    0.6s\n",
      "[Parallel(n_jobs=-1)]: Done 784 tasks      | elapsed:    1.2s\n",
      "[Parallel(n_jobs=-1)]: Done 1234 tasks      | elapsed:    1.9s\n",
      "[Parallel(n_jobs=-1)]: Done 1784 tasks      | elapsed:    2.8s\n",
      "[Parallel(n_jobs=-1)]: Done 2010 out of 2010 | elapsed:    3.2s finished\n",
      "[Parallel(n_jobs=8)]: Using backend ThreadingBackend with 8 concurrent workers.\n",
      "[Parallel(n_jobs=8)]: Done  34 tasks      | elapsed:    0.0s\n",
      "[Parallel(n_jobs=8)]: Done 184 tasks      | elapsed:    0.0s\n",
      "[Parallel(n_jobs=8)]: Done 434 tasks      | elapsed:    0.0s\n",
      "[Parallel(n_jobs=8)]: Done 784 tasks      | elapsed:    0.1s\n",
      "[Parallel(n_jobs=8)]: Done 1234 tasks      | elapsed:    0.3s\n",
      "[Parallel(n_jobs=8)]: Done 1784 tasks      | elapsed:    0.5s\n",
      "[Parallel(n_jobs=8)]: Done 2010 out of 2010 | elapsed:    0.5s finished\n",
      "[Parallel(n_jobs=1)]: Done   4 out of   4 | elapsed:  4.1min remaining:    0.0s\n"
     ]
    },
    {
     "name": "stdout",
     "output_type": "stream",
     "text": [
      "[CV]  n_estimators=2010, min_samples_split=2, min_samples_leaf=3, max_samples=1100, max_leaf_nodes=350, max_features=sqrt, max_depth=90, bootstrap=True, score=0.479, total=   4.8s\n",
      "[CV] n_estimators=2010, min_samples_split=2, min_samples_leaf=3, max_samples=1100, max_leaf_nodes=350, max_features=sqrt, max_depth=90, bootstrap=True \n"
     ]
    },
    {
     "name": "stderr",
     "output_type": "stream",
     "text": [
      "[Parallel(n_jobs=-1)]: Using backend ThreadingBackend with 8 concurrent workers.\n",
      "[Parallel(n_jobs=-1)]: Done  34 tasks      | elapsed:    0.0s\n",
      "[Parallel(n_jobs=-1)]: Done 184 tasks      | elapsed:    0.2s\n",
      "[Parallel(n_jobs=-1)]: Done 434 tasks      | elapsed:    0.6s\n",
      "[Parallel(n_jobs=-1)]: Done 784 tasks      | elapsed:    1.2s\n",
      "[Parallel(n_jobs=-1)]: Done 1234 tasks      | elapsed:    1.9s\n",
      "[Parallel(n_jobs=-1)]: Done 1784 tasks      | elapsed:    2.7s\n",
      "[Parallel(n_jobs=-1)]: Done 2010 out of 2010 | elapsed:    3.1s finished\n",
      "[Parallel(n_jobs=8)]: Using backend ThreadingBackend with 8 concurrent workers.\n",
      "[Parallel(n_jobs=8)]: Done  34 tasks      | elapsed:    0.0s\n",
      "[Parallel(n_jobs=8)]: Done 184 tasks      | elapsed:    0.0s\n",
      "[Parallel(n_jobs=8)]: Done 434 tasks      | elapsed:    0.0s\n",
      "[Parallel(n_jobs=8)]: Done 784 tasks      | elapsed:    0.1s\n",
      "[Parallel(n_jobs=8)]: Done 1234 tasks      | elapsed:    0.3s\n",
      "[Parallel(n_jobs=8)]: Done 1784 tasks      | elapsed:    0.5s\n",
      "[Parallel(n_jobs=8)]: Done 2010 out of 2010 | elapsed:    0.5s finished\n",
      "[Parallel(n_jobs=1)]: Done   5 out of   5 | elapsed:  4.2min remaining:    0.0s\n"
     ]
    },
    {
     "name": "stdout",
     "output_type": "stream",
     "text": [
      "[CV]  n_estimators=2010, min_samples_split=2, min_samples_leaf=3, max_samples=1100, max_leaf_nodes=350, max_features=sqrt, max_depth=90, bootstrap=True, score=0.905, total=   4.7s\n",
      "[CV] n_estimators=2010, min_samples_split=2, min_samples_leaf=3, max_samples=1100, max_leaf_nodes=350, max_features=sqrt, max_depth=90, bootstrap=True \n"
     ]
    },
    {
     "name": "stderr",
     "output_type": "stream",
     "text": [
      "[Parallel(n_jobs=-1)]: Using backend ThreadingBackend with 8 concurrent workers.\n",
      "[Parallel(n_jobs=-1)]: Done  34 tasks      | elapsed:    0.0s\n",
      "[Parallel(n_jobs=-1)]: Done 184 tasks      | elapsed:    0.2s\n",
      "[Parallel(n_jobs=-1)]: Done 434 tasks      | elapsed:    0.6s\n",
      "[Parallel(n_jobs=-1)]: Done 784 tasks      | elapsed:    1.2s\n",
      "[Parallel(n_jobs=-1)]: Done 1234 tasks      | elapsed:    1.9s\n",
      "[Parallel(n_jobs=-1)]: Done 1784 tasks      | elapsed:    2.8s\n",
      "[Parallel(n_jobs=-1)]: Done 2010 out of 2010 | elapsed:    3.1s finished\n",
      "[Parallel(n_jobs=8)]: Using backend ThreadingBackend with 8 concurrent workers.\n",
      "[Parallel(n_jobs=8)]: Done  34 tasks      | elapsed:    0.0s\n",
      "[Parallel(n_jobs=8)]: Done 184 tasks      | elapsed:    0.0s\n",
      "[Parallel(n_jobs=8)]: Done 434 tasks      | elapsed:    0.0s\n",
      "[Parallel(n_jobs=8)]: Done 784 tasks      | elapsed:    0.2s\n",
      "[Parallel(n_jobs=8)]: Done 1234 tasks      | elapsed:    0.3s\n",
      "[Parallel(n_jobs=8)]: Done 1784 tasks      | elapsed:    0.5s\n",
      "[Parallel(n_jobs=8)]: Done 2010 out of 2010 | elapsed:    0.5s finished\n",
      "[Parallel(n_jobs=1)]: Done   6 out of   6 | elapsed:  4.2min remaining:    0.0s\n"
     ]
    },
    {
     "name": "stdout",
     "output_type": "stream",
     "text": [
      "[CV]  n_estimators=2010, min_samples_split=2, min_samples_leaf=3, max_samples=1100, max_leaf_nodes=350, max_features=sqrt, max_depth=90, bootstrap=True, score=0.428, total=   4.6s\n",
      "[CV] n_estimators=2005, min_samples_split=6, min_samples_leaf=3, max_samples=1000, max_leaf_nodes=250, max_features=sqrt, max_depth=95, bootstrap=False \n"
     ]
    },
    {
     "name": "stderr",
     "output_type": "stream",
     "text": [
      "[Parallel(n_jobs=-1)]: Using backend ThreadingBackend with 8 concurrent workers.\n",
      "[Parallel(n_jobs=-1)]: Done  34 tasks      | elapsed:    0.3s\n",
      "[Parallel(n_jobs=-1)]: Done 184 tasks      | elapsed:    2.1s\n",
      "[Parallel(n_jobs=-1)]: Done 434 tasks      | elapsed:    5.3s\n",
      "[Parallel(n_jobs=-1)]: Done 784 tasks      | elapsed:    9.5s\n",
      "[Parallel(n_jobs=-1)]: Done 1234 tasks      | elapsed:   15.1s\n",
      "[Parallel(n_jobs=-1)]: Done 1784 tasks      | elapsed:   22.2s\n",
      "[Parallel(n_jobs=-1)]: Done 2005 out of 2005 | elapsed:   25.2s finished\n",
      "[Parallel(n_jobs=8)]: Using backend ThreadingBackend with 8 concurrent workers.\n",
      "[Parallel(n_jobs=8)]: Done  34 tasks      | elapsed:    0.0s\n",
      "[Parallel(n_jobs=8)]: Done 184 tasks      | elapsed:    0.0s\n",
      "[Parallel(n_jobs=8)]: Done 434 tasks      | elapsed:    0.1s\n",
      "[Parallel(n_jobs=8)]: Done 784 tasks      | elapsed:    0.3s\n",
      "[Parallel(n_jobs=8)]: Done 1234 tasks      | elapsed:    0.4s\n",
      "[Parallel(n_jobs=8)]: Done 1784 tasks      | elapsed:    0.6s\n",
      "[Parallel(n_jobs=8)]: Done 2005 out of 2005 | elapsed:    0.7s finished\n",
      "[Parallel(n_jobs=1)]: Done   7 out of   7 | elapsed:  4.7min remaining:    0.0s\n"
     ]
    },
    {
     "name": "stdout",
     "output_type": "stream",
     "text": [
      "[CV]  n_estimators=2005, min_samples_split=6, min_samples_leaf=3, max_samples=1000, max_leaf_nodes=250, max_features=sqrt, max_depth=95, bootstrap=False, score=0.470, total=  26.9s\n",
      "[CV] n_estimators=2005, min_samples_split=6, min_samples_leaf=3, max_samples=1000, max_leaf_nodes=250, max_features=sqrt, max_depth=95, bootstrap=False \n"
     ]
    },
    {
     "name": "stderr",
     "output_type": "stream",
     "text": [
      "[Parallel(n_jobs=-1)]: Using backend ThreadingBackend with 8 concurrent workers.\n",
      "[Parallel(n_jobs=-1)]: Done  34 tasks      | elapsed:    0.3s\n",
      "[Parallel(n_jobs=-1)]: Done 184 tasks      | elapsed:    2.3s\n",
      "[Parallel(n_jobs=-1)]: Done 434 tasks      | elapsed:    5.5s\n",
      "[Parallel(n_jobs=-1)]: Done 784 tasks      | elapsed:    9.8s\n",
      "[Parallel(n_jobs=-1)]: Done 1234 tasks      | elapsed:   14.9s\n",
      "[Parallel(n_jobs=-1)]: Done 1784 tasks      | elapsed:   21.1s\n",
      "[Parallel(n_jobs=-1)]: Done 2005 out of 2005 | elapsed:   23.6s finished\n",
      "[Parallel(n_jobs=8)]: Using backend ThreadingBackend with 8 concurrent workers.\n",
      "[Parallel(n_jobs=8)]: Done  34 tasks      | elapsed:    0.0s\n",
      "[Parallel(n_jobs=8)]: Done 184 tasks      | elapsed:    0.0s\n",
      "[Parallel(n_jobs=8)]: Done 434 tasks      | elapsed:    0.0s\n",
      "[Parallel(n_jobs=8)]: Done 784 tasks      | elapsed:    0.1s\n",
      "[Parallel(n_jobs=8)]: Done 1234 tasks      | elapsed:    0.2s\n",
      "[Parallel(n_jobs=8)]: Done 1784 tasks      | elapsed:    0.3s\n",
      "[Parallel(n_jobs=8)]: Done 2005 out of 2005 | elapsed:    0.4s finished\n",
      "[Parallel(n_jobs=1)]: Done   8 out of   8 | elapsed:  5.1min remaining:    0.0s\n"
     ]
    },
    {
     "name": "stdout",
     "output_type": "stream",
     "text": [
      "[CV]  n_estimators=2005, min_samples_split=6, min_samples_leaf=3, max_samples=1000, max_leaf_nodes=250, max_features=sqrt, max_depth=95, bootstrap=False, score=0.891, total=  25.0s\n",
      "[CV] n_estimators=2005, min_samples_split=6, min_samples_leaf=3, max_samples=1000, max_leaf_nodes=250, max_features=sqrt, max_depth=95, bootstrap=False \n"
     ]
    },
    {
     "name": "stderr",
     "output_type": "stream",
     "text": [
      "[Parallel(n_jobs=-1)]: Using backend ThreadingBackend with 8 concurrent workers.\n",
      "[Parallel(n_jobs=-1)]: Done  34 tasks      | elapsed:    0.2s\n",
      "[Parallel(n_jobs=-1)]: Done 184 tasks      | elapsed:    1.9s\n",
      "[Parallel(n_jobs=-1)]: Done 434 tasks      | elapsed:    5.0s\n",
      "[Parallel(n_jobs=-1)]: Done 784 tasks      | elapsed:   10.1s\n",
      "[Parallel(n_jobs=-1)]: Done 1234 tasks      | elapsed:   16.1s\n",
      "[Parallel(n_jobs=-1)]: Done 1784 tasks      | elapsed:   22.7s\n",
      "[Parallel(n_jobs=-1)]: Done 2005 out of 2005 | elapsed:   25.4s finished\n",
      "[Parallel(n_jobs=8)]: Using backend ThreadingBackend with 8 concurrent workers.\n",
      "[Parallel(n_jobs=8)]: Done  34 tasks      | elapsed:    0.0s\n",
      "[Parallel(n_jobs=8)]: Done 184 tasks      | elapsed:    0.0s\n",
      "[Parallel(n_jobs=8)]: Done 434 tasks      | elapsed:    0.0s\n",
      "[Parallel(n_jobs=8)]: Done 784 tasks      | elapsed:    0.1s\n",
      "[Parallel(n_jobs=8)]: Done 1234 tasks      | elapsed:    0.3s\n",
      "[Parallel(n_jobs=8)]: Done 1784 tasks      | elapsed:    0.4s\n",
      "[Parallel(n_jobs=8)]: Done 2005 out of 2005 | elapsed:    0.5s finished\n",
      "[Parallel(n_jobs=1)]: Done   9 out of   9 | elapsed:  5.6min remaining:    0.0s\n"
     ]
    },
    {
     "name": "stdout",
     "output_type": "stream",
     "text": [
      "[CV]  n_estimators=2005, min_samples_split=6, min_samples_leaf=3, max_samples=1000, max_leaf_nodes=250, max_features=sqrt, max_depth=95, bootstrap=False, score=0.604, total=  26.8s\n",
      "[CV] n_estimators=2050, min_samples_split=4, min_samples_leaf=5, max_samples=1100, max_leaf_nodes=350, max_features=auto, max_depth=80, bootstrap=False \n"
     ]
    },
    {
     "name": "stderr",
     "output_type": "stream",
     "text": [
      "[Parallel(n_jobs=-1)]: Using backend ThreadingBackend with 8 concurrent workers.\n",
      "[Parallel(n_jobs=-1)]: Done  34 tasks      | elapsed:    1.2s\n",
      "[Parallel(n_jobs=-1)]: Done 184 tasks      | elapsed:    6.6s\n",
      "[Parallel(n_jobs=-1)]: Done 434 tasks      | elapsed:   15.2s\n",
      "[Parallel(n_jobs=-1)]: Done 784 tasks      | elapsed:   27.3s\n",
      "[Parallel(n_jobs=-1)]: Done 1234 tasks      | elapsed:   43.1s\n",
      "[Parallel(n_jobs=-1)]: Done 1784 tasks      | elapsed:  1.0min\n",
      "[Parallel(n_jobs=-1)]: Done 2050 out of 2050 | elapsed:  1.2min finished\n",
      "[Parallel(n_jobs=8)]: Using backend ThreadingBackend with 8 concurrent workers.\n",
      "[Parallel(n_jobs=8)]: Done  34 tasks      | elapsed:    0.0s\n",
      "[Parallel(n_jobs=8)]: Done 184 tasks      | elapsed:    0.0s\n",
      "[Parallel(n_jobs=8)]: Done 434 tasks      | elapsed:    0.1s\n",
      "[Parallel(n_jobs=8)]: Done 784 tasks      | elapsed:    0.2s\n",
      "[Parallel(n_jobs=8)]: Done 1234 tasks      | elapsed:    0.3s\n",
      "[Parallel(n_jobs=8)]: Done 1784 tasks      | elapsed:    0.5s\n",
      "[Parallel(n_jobs=8)]: Done 2050 out of 2050 | elapsed:    0.6s finished\n"
     ]
    },
    {
     "name": "stdout",
     "output_type": "stream",
     "text": [
      "[CV]  n_estimators=2050, min_samples_split=4, min_samples_leaf=5, max_samples=1100, max_leaf_nodes=350, max_features=auto, max_depth=80, bootstrap=False, score=0.564, total= 1.2min\n",
      "[CV] n_estimators=2050, min_samples_split=4, min_samples_leaf=5, max_samples=1100, max_leaf_nodes=350, max_features=auto, max_depth=80, bootstrap=False \n"
     ]
    },
    {
     "name": "stderr",
     "output_type": "stream",
     "text": [
      "[Parallel(n_jobs=-1)]: Using backend ThreadingBackend with 8 concurrent workers.\n",
      "[Parallel(n_jobs=-1)]: Done  34 tasks      | elapsed:    1.3s\n",
      "[Parallel(n_jobs=-1)]: Done 184 tasks      | elapsed:    6.7s\n",
      "[Parallel(n_jobs=-1)]: Done 434 tasks      | elapsed:   15.6s\n",
      "[Parallel(n_jobs=-1)]: Done 784 tasks      | elapsed:   28.2s\n",
      "[Parallel(n_jobs=-1)]: Done 1234 tasks      | elapsed:   44.4s\n",
      "[Parallel(n_jobs=-1)]: Done 1784 tasks      | elapsed:  1.1min\n",
      "[Parallel(n_jobs=-1)]: Done 2050 out of 2050 | elapsed:  1.2min finished\n",
      "[Parallel(n_jobs=8)]: Using backend ThreadingBackend with 8 concurrent workers.\n",
      "[Parallel(n_jobs=8)]: Done  34 tasks      | elapsed:    0.0s\n",
      "[Parallel(n_jobs=8)]: Done 184 tasks      | elapsed:    0.0s\n",
      "[Parallel(n_jobs=8)]: Done 434 tasks      | elapsed:    0.1s\n",
      "[Parallel(n_jobs=8)]: Done 784 tasks      | elapsed:    0.2s\n",
      "[Parallel(n_jobs=8)]: Done 1234 tasks      | elapsed:    0.3s\n",
      "[Parallel(n_jobs=8)]: Done 1784 tasks      | elapsed:    0.5s\n",
      "[Parallel(n_jobs=8)]: Done 2050 out of 2050 | elapsed:    0.6s finished\n"
     ]
    },
    {
     "name": "stdout",
     "output_type": "stream",
     "text": [
      "[CV]  n_estimators=2050, min_samples_split=4, min_samples_leaf=5, max_samples=1100, max_leaf_nodes=350, max_features=auto, max_depth=80, bootstrap=False, score=0.948, total= 1.3min\n",
      "[CV] n_estimators=2050, min_samples_split=4, min_samples_leaf=5, max_samples=1100, max_leaf_nodes=350, max_features=auto, max_depth=80, bootstrap=False \n"
     ]
    },
    {
     "name": "stderr",
     "output_type": "stream",
     "text": [
      "[Parallel(n_jobs=-1)]: Using backend ThreadingBackend with 8 concurrent workers.\n",
      "[Parallel(n_jobs=-1)]: Done  34 tasks      | elapsed:    1.2s\n",
      "[Parallel(n_jobs=-1)]: Done 184 tasks      | elapsed:    6.5s\n",
      "[Parallel(n_jobs=-1)]: Done 434 tasks      | elapsed:   15.4s\n",
      "[Parallel(n_jobs=-1)]: Done 784 tasks      | elapsed:   27.3s\n",
      "[Parallel(n_jobs=-1)]: Done 1234 tasks      | elapsed:   43.0s\n",
      "[Parallel(n_jobs=-1)]: Done 1784 tasks      | elapsed:  1.0min\n",
      "[Parallel(n_jobs=-1)]: Done 2050 out of 2050 | elapsed:  1.2min finished\n",
      "[Parallel(n_jobs=8)]: Using backend ThreadingBackend with 8 concurrent workers.\n",
      "[Parallel(n_jobs=8)]: Done  34 tasks      | elapsed:    0.0s\n",
      "[Parallel(n_jobs=8)]: Done 184 tasks      | elapsed:    0.0s\n",
      "[Parallel(n_jobs=8)]: Done 434 tasks      | elapsed:    0.0s\n",
      "[Parallel(n_jobs=8)]: Done 784 tasks      | elapsed:    0.1s\n",
      "[Parallel(n_jobs=8)]: Done 1234 tasks      | elapsed:    0.3s\n",
      "[Parallel(n_jobs=8)]: Done 1784 tasks      | elapsed:    0.4s\n",
      "[Parallel(n_jobs=8)]: Done 2050 out of 2050 | elapsed:    0.5s finished\n"
     ]
    },
    {
     "name": "stdout",
     "output_type": "stream",
     "text": [
      "[CV]  n_estimators=2050, min_samples_split=4, min_samples_leaf=5, max_samples=1100, max_leaf_nodes=350, max_features=auto, max_depth=80, bootstrap=False, score=0.811, total= 1.2min\n",
      "[CV] n_estimators=2005, min_samples_split=4, min_samples_leaf=3, max_samples=1000, max_leaf_nodes=450, max_features=sqrt, max_depth=95, bootstrap=False \n"
     ]
    },
    {
     "name": "stderr",
     "output_type": "stream",
     "text": [
      "[Parallel(n_jobs=-1)]: Using backend ThreadingBackend with 8 concurrent workers.\n",
      "[Parallel(n_jobs=-1)]: Done  34 tasks      | elapsed:    0.4s\n",
      "[Parallel(n_jobs=-1)]: Done 184 tasks      | elapsed:    2.3s\n",
      "[Parallel(n_jobs=-1)]: Done 434 tasks      | elapsed:    5.4s\n",
      "[Parallel(n_jobs=-1)]: Done 784 tasks      | elapsed:    9.8s\n",
      "[Parallel(n_jobs=-1)]: Done 1234 tasks      | elapsed:   15.5s\n",
      "[Parallel(n_jobs=-1)]: Done 1784 tasks      | elapsed:   22.1s\n",
      "[Parallel(n_jobs=-1)]: Done 2005 out of 2005 | elapsed:   24.8s finished\n",
      "[Parallel(n_jobs=8)]: Using backend ThreadingBackend with 8 concurrent workers.\n",
      "[Parallel(n_jobs=8)]: Done  34 tasks      | elapsed:    0.0s\n",
      "[Parallel(n_jobs=8)]: Done 184 tasks      | elapsed:    0.0s\n",
      "[Parallel(n_jobs=8)]: Done 434 tasks      | elapsed:    0.0s\n",
      "[Parallel(n_jobs=8)]: Done 784 tasks      | elapsed:    0.1s\n",
      "[Parallel(n_jobs=8)]: Done 1234 tasks      | elapsed:    0.2s\n",
      "[Parallel(n_jobs=8)]: Done 1784 tasks      | elapsed:    0.4s\n",
      "[Parallel(n_jobs=8)]: Done 2005 out of 2005 | elapsed:    0.4s finished\n"
     ]
    },
    {
     "name": "stdout",
     "output_type": "stream",
     "text": [
      "[CV]  n_estimators=2005, min_samples_split=4, min_samples_leaf=3, max_samples=1000, max_leaf_nodes=450, max_features=sqrt, max_depth=95, bootstrap=False, score=0.472, total=  26.4s\n",
      "[CV] n_estimators=2005, min_samples_split=4, min_samples_leaf=3, max_samples=1000, max_leaf_nodes=450, max_features=sqrt, max_depth=95, bootstrap=False \n"
     ]
    },
    {
     "name": "stderr",
     "output_type": "stream",
     "text": [
      "[Parallel(n_jobs=-1)]: Using backend ThreadingBackend with 8 concurrent workers.\n",
      "[Parallel(n_jobs=-1)]: Done  34 tasks      | elapsed:    0.3s\n",
      "[Parallel(n_jobs=-1)]: Done 184 tasks      | elapsed:    2.2s\n",
      "[Parallel(n_jobs=-1)]: Done 434 tasks      | elapsed:    5.3s\n",
      "[Parallel(n_jobs=-1)]: Done 784 tasks      | elapsed:    9.7s\n",
      "[Parallel(n_jobs=-1)]: Done 1234 tasks      | elapsed:   15.3s\n",
      "[Parallel(n_jobs=-1)]: Done 1784 tasks      | elapsed:   22.3s\n",
      "[Parallel(n_jobs=-1)]: Done 2005 out of 2005 | elapsed:   25.1s finished\n",
      "[Parallel(n_jobs=8)]: Using backend ThreadingBackend with 8 concurrent workers.\n",
      "[Parallel(n_jobs=8)]: Done  34 tasks      | elapsed:    0.0s\n",
      "[Parallel(n_jobs=8)]: Done 184 tasks      | elapsed:    0.0s\n",
      "[Parallel(n_jobs=8)]: Done 434 tasks      | elapsed:    0.1s\n",
      "[Parallel(n_jobs=8)]: Done 784 tasks      | elapsed:    0.2s\n",
      "[Parallel(n_jobs=8)]: Done 1234 tasks      | elapsed:    0.3s\n",
      "[Parallel(n_jobs=8)]: Done 1784 tasks      | elapsed:    0.4s\n",
      "[Parallel(n_jobs=8)]: Done 2005 out of 2005 | elapsed:    0.5s finished\n"
     ]
    },
    {
     "name": "stdout",
     "output_type": "stream",
     "text": [
      "[CV]  n_estimators=2005, min_samples_split=4, min_samples_leaf=3, max_samples=1000, max_leaf_nodes=450, max_features=sqrt, max_depth=95, bootstrap=False, score=0.890, total=  26.5s\n",
      "[CV] n_estimators=2005, min_samples_split=4, min_samples_leaf=3, max_samples=1000, max_leaf_nodes=450, max_features=sqrt, max_depth=95, bootstrap=False \n"
     ]
    },
    {
     "name": "stderr",
     "output_type": "stream",
     "text": [
      "[Parallel(n_jobs=-1)]: Using backend ThreadingBackend with 8 concurrent workers.\n",
      "[Parallel(n_jobs=-1)]: Done  34 tasks      | elapsed:    0.3s\n",
      "[Parallel(n_jobs=-1)]: Done 184 tasks      | elapsed:    2.1s\n",
      "[Parallel(n_jobs=-1)]: Done 434 tasks      | elapsed:    5.1s\n",
      "[Parallel(n_jobs=-1)]: Done 784 tasks      | elapsed:    9.3s\n",
      "[Parallel(n_jobs=-1)]: Done 1234 tasks      | elapsed:   14.9s\n",
      "[Parallel(n_jobs=-1)]: Done 1784 tasks      | elapsed:   21.5s\n",
      "[Parallel(n_jobs=-1)]: Done 2005 out of 2005 | elapsed:   24.2s finished\n",
      "[Parallel(n_jobs=8)]: Using backend ThreadingBackend with 8 concurrent workers.\n",
      "[Parallel(n_jobs=8)]: Done  34 tasks      | elapsed:    0.0s\n",
      "[Parallel(n_jobs=8)]: Done 184 tasks      | elapsed:    0.0s\n",
      "[Parallel(n_jobs=8)]: Done 434 tasks      | elapsed:    0.0s\n",
      "[Parallel(n_jobs=8)]: Done 784 tasks      | elapsed:    0.1s\n",
      "[Parallel(n_jobs=8)]: Done 1234 tasks      | elapsed:    0.2s\n",
      "[Parallel(n_jobs=8)]: Done 1784 tasks      | elapsed:    0.4s\n",
      "[Parallel(n_jobs=8)]: Done 2005 out of 2005 | elapsed:    0.4s finished\n"
     ]
    },
    {
     "name": "stdout",
     "output_type": "stream",
     "text": [
      "[CV]  n_estimators=2005, min_samples_split=4, min_samples_leaf=3, max_samples=1000, max_leaf_nodes=450, max_features=sqrt, max_depth=95, bootstrap=False, score=0.581, total=  25.5s\n",
      "[CV] n_estimators=2020, min_samples_split=3, min_samples_leaf=5, max_samples=1000, max_leaf_nodes=450, max_features=auto, max_depth=90, bootstrap=False \n"
     ]
    },
    {
     "name": "stderr",
     "output_type": "stream",
     "text": [
      "[Parallel(n_jobs=-1)]: Using backend ThreadingBackend with 8 concurrent workers.\n",
      "[Parallel(n_jobs=-1)]: Done  34 tasks      | elapsed:    1.2s\n",
      "[Parallel(n_jobs=-1)]: Done 184 tasks      | elapsed:    6.7s\n",
      "[Parallel(n_jobs=-1)]: Done 434 tasks      | elapsed:   15.7s\n",
      "[Parallel(n_jobs=-1)]: Done 784 tasks      | elapsed:   28.7s\n",
      "[Parallel(n_jobs=-1)]: Done 1234 tasks      | elapsed:   45.0s\n",
      "[Parallel(n_jobs=-1)]: Done 1784 tasks      | elapsed:  1.1min\n",
      "[Parallel(n_jobs=-1)]: Done 2020 out of 2020 | elapsed:  1.2min finished\n",
      "[Parallel(n_jobs=8)]: Using backend ThreadingBackend with 8 concurrent workers.\n",
      "[Parallel(n_jobs=8)]: Done  34 tasks      | elapsed:    0.0s\n",
      "[Parallel(n_jobs=8)]: Done 184 tasks      | elapsed:    0.0s\n",
      "[Parallel(n_jobs=8)]: Done 434 tasks      | elapsed:    0.1s\n",
      "[Parallel(n_jobs=8)]: Done 784 tasks      | elapsed:    0.2s\n",
      "[Parallel(n_jobs=8)]: Done 1234 tasks      | elapsed:    0.3s\n",
      "[Parallel(n_jobs=8)]: Done 1784 tasks      | elapsed:    0.4s\n",
      "[Parallel(n_jobs=8)]: Done 2020 out of 2020 | elapsed:    0.5s finished\n"
     ]
    },
    {
     "name": "stdout",
     "output_type": "stream",
     "text": [
      "[CV]  n_estimators=2020, min_samples_split=3, min_samples_leaf=5, max_samples=1000, max_leaf_nodes=450, max_features=auto, max_depth=90, bootstrap=False, score=0.563, total= 1.3min\n",
      "[CV] n_estimators=2020, min_samples_split=3, min_samples_leaf=5, max_samples=1000, max_leaf_nodes=450, max_features=auto, max_depth=90, bootstrap=False \n"
     ]
    },
    {
     "name": "stderr",
     "output_type": "stream",
     "text": [
      "[Parallel(n_jobs=-1)]: Using backend ThreadingBackend with 8 concurrent workers.\n",
      "[Parallel(n_jobs=-1)]: Done  34 tasks      | elapsed:    1.4s\n",
      "[Parallel(n_jobs=-1)]: Done 184 tasks      | elapsed:    7.0s\n",
      "[Parallel(n_jobs=-1)]: Done 434 tasks      | elapsed:   16.3s\n",
      "[Parallel(n_jobs=-1)]: Done 784 tasks      | elapsed:   29.7s\n",
      "[Parallel(n_jobs=-1)]: Done 1234 tasks      | elapsed:   46.6s\n",
      "[Parallel(n_jobs=-1)]: Done 1784 tasks      | elapsed:  1.1min\n",
      "[Parallel(n_jobs=-1)]: Done 2020 out of 2020 | elapsed:  1.3min finished\n",
      "[Parallel(n_jobs=8)]: Using backend ThreadingBackend with 8 concurrent workers.\n",
      "[Parallel(n_jobs=8)]: Done  34 tasks      | elapsed:    0.0s\n",
      "[Parallel(n_jobs=8)]: Done 184 tasks      | elapsed:    0.0s\n",
      "[Parallel(n_jobs=8)]: Done 434 tasks      | elapsed:    0.1s\n",
      "[Parallel(n_jobs=8)]: Done 784 tasks      | elapsed:    0.2s\n",
      "[Parallel(n_jobs=8)]: Done 1234 tasks      | elapsed:    0.3s\n",
      "[Parallel(n_jobs=8)]: Done 1784 tasks      | elapsed:    0.5s\n",
      "[Parallel(n_jobs=8)]: Done 2020 out of 2020 | elapsed:    0.6s finished\n"
     ]
    },
    {
     "name": "stdout",
     "output_type": "stream",
     "text": [
      "[CV]  n_estimators=2020, min_samples_split=3, min_samples_leaf=5, max_samples=1000, max_leaf_nodes=450, max_features=auto, max_depth=90, bootstrap=False, score=0.949, total= 1.3min\n",
      "[CV] n_estimators=2020, min_samples_split=3, min_samples_leaf=5, max_samples=1000, max_leaf_nodes=450, max_features=auto, max_depth=90, bootstrap=False \n"
     ]
    },
    {
     "name": "stderr",
     "output_type": "stream",
     "text": [
      "[Parallel(n_jobs=-1)]: Using backend ThreadingBackend with 8 concurrent workers.\n",
      "[Parallel(n_jobs=-1)]: Done  34 tasks      | elapsed:    1.3s\n",
      "[Parallel(n_jobs=-1)]: Done 184 tasks      | elapsed:    6.7s\n",
      "[Parallel(n_jobs=-1)]: Done 434 tasks      | elapsed:   15.7s\n",
      "[Parallel(n_jobs=-1)]: Done 784 tasks      | elapsed:   28.3s\n",
      "[Parallel(n_jobs=-1)]: Done 1234 tasks      | elapsed:   49.2s\n",
      "[Parallel(n_jobs=-1)]: Done 1784 tasks      | elapsed:  1.3min\n",
      "[Parallel(n_jobs=-1)]: Done 2020 out of 2020 | elapsed:  1.5min finished\n",
      "[Parallel(n_jobs=8)]: Using backend ThreadingBackend with 8 concurrent workers.\n",
      "[Parallel(n_jobs=8)]: Done  34 tasks      | elapsed:    0.0s\n",
      "[Parallel(n_jobs=8)]: Done 184 tasks      | elapsed:    0.0s\n",
      "[Parallel(n_jobs=8)]: Done 434 tasks      | elapsed:    0.3s\n",
      "[Parallel(n_jobs=8)]: Done 784 tasks      | elapsed:    0.6s\n",
      "[Parallel(n_jobs=8)]: Done 1234 tasks      | elapsed:    1.0s\n",
      "[Parallel(n_jobs=8)]: Done 1784 tasks      | elapsed:    1.6s\n",
      "[Parallel(n_jobs=8)]: Done 2020 out of 2020 | elapsed:    1.7s finished\n"
     ]
    },
    {
     "name": "stdout",
     "output_type": "stream",
     "text": [
      "[CV]  n_estimators=2020, min_samples_split=3, min_samples_leaf=5, max_samples=1000, max_leaf_nodes=450, max_features=auto, max_depth=90, bootstrap=False, score=0.813, total= 1.5min\n",
      "[CV] n_estimators=2015, min_samples_split=3, min_samples_leaf=5, max_samples=900, max_leaf_nodes=550, max_features=sqrt, max_depth=105, bootstrap=True \n"
     ]
    },
    {
     "name": "stderr",
     "output_type": "stream",
     "text": [
      "[Parallel(n_jobs=-1)]: Using backend ThreadingBackend with 8 concurrent workers.\n",
      "[Parallel(n_jobs=-1)]: Done  34 tasks      | elapsed:    0.1s\n",
      "[Parallel(n_jobs=-1)]: Done 184 tasks      | elapsed:    0.7s\n",
      "[Parallel(n_jobs=-1)]: Done 434 tasks      | elapsed:    1.6s\n",
      "[Parallel(n_jobs=-1)]: Done 784 tasks      | elapsed:    3.3s\n",
      "[Parallel(n_jobs=-1)]: Done 1234 tasks      | elapsed:    5.3s\n",
      "[Parallel(n_jobs=-1)]: Done 1784 tasks      | elapsed:    7.6s\n",
      "[Parallel(n_jobs=-1)]: Done 2015 out of 2015 | elapsed:    8.5s finished\n",
      "[Parallel(n_jobs=8)]: Using backend ThreadingBackend with 8 concurrent workers.\n",
      "[Parallel(n_jobs=8)]: Done  34 tasks      | elapsed:    0.0s\n",
      "[Parallel(n_jobs=8)]: Done 184 tasks      | elapsed:    0.1s\n",
      "[Parallel(n_jobs=8)]: Done 434 tasks      | elapsed:    0.4s\n",
      "[Parallel(n_jobs=8)]: Done 784 tasks      | elapsed:    0.8s\n",
      "[Parallel(n_jobs=8)]: Done 1234 tasks      | elapsed:    1.5s\n",
      "[Parallel(n_jobs=8)]: Done 1784 tasks      | elapsed:    2.2s\n",
      "[Parallel(n_jobs=8)]: Done 2015 out of 2015 | elapsed:    2.5s finished\n"
     ]
    },
    {
     "name": "stdout",
     "output_type": "stream",
     "text": [
      "[CV]  n_estimators=2015, min_samples_split=3, min_samples_leaf=5, max_samples=900, max_leaf_nodes=550, max_features=sqrt, max_depth=105, bootstrap=True, score=0.475, total=  13.8s\n",
      "[CV] n_estimators=2015, min_samples_split=3, min_samples_leaf=5, max_samples=900, max_leaf_nodes=550, max_features=sqrt, max_depth=105, bootstrap=True \n"
     ]
    },
    {
     "name": "stderr",
     "output_type": "stream",
     "text": [
      "[Parallel(n_jobs=-1)]: Using backend ThreadingBackend with 8 concurrent workers.\n",
      "[Parallel(n_jobs=-1)]: Done  34 tasks      | elapsed:    0.0s\n",
      "[Parallel(n_jobs=-1)]: Done 184 tasks      | elapsed:    0.5s\n",
      "[Parallel(n_jobs=-1)]: Done 434 tasks      | elapsed:    1.4s\n",
      "[Parallel(n_jobs=-1)]: Done 784 tasks      | elapsed:    2.6s\n",
      "[Parallel(n_jobs=-1)]: Done 1234 tasks      | elapsed:    4.2s\n",
      "[Parallel(n_jobs=-1)]: Done 1784 tasks      | elapsed:    6.3s\n",
      "[Parallel(n_jobs=-1)]: Done 2015 out of 2015 | elapsed:    7.1s finished\n",
      "[Parallel(n_jobs=8)]: Using backend ThreadingBackend with 8 concurrent workers.\n",
      "[Parallel(n_jobs=8)]: Done  34 tasks      | elapsed:    0.0s\n",
      "[Parallel(n_jobs=8)]: Done 184 tasks      | elapsed:    0.1s\n",
      "[Parallel(n_jobs=8)]: Done 434 tasks      | elapsed:    0.3s\n",
      "[Parallel(n_jobs=8)]: Done 784 tasks      | elapsed:    0.7s\n",
      "[Parallel(n_jobs=8)]: Done 1234 tasks      | elapsed:    1.2s\n",
      "[Parallel(n_jobs=8)]: Done 1784 tasks      | elapsed:    1.7s\n",
      "[Parallel(n_jobs=8)]: Done 2015 out of 2015 | elapsed:    1.9s finished\n"
     ]
    },
    {
     "name": "stdout",
     "output_type": "stream",
     "text": [
      "[CV]  n_estimators=2015, min_samples_split=3, min_samples_leaf=5, max_samples=900, max_leaf_nodes=550, max_features=sqrt, max_depth=105, bootstrap=True, score=0.904, total=  12.0s\n",
      "[CV] n_estimators=2015, min_samples_split=3, min_samples_leaf=5, max_samples=900, max_leaf_nodes=550, max_features=sqrt, max_depth=105, bootstrap=True \n"
     ]
    },
    {
     "name": "stderr",
     "output_type": "stream",
     "text": [
      "[Parallel(n_jobs=-1)]: Using backend ThreadingBackend with 8 concurrent workers.\n",
      "[Parallel(n_jobs=-1)]: Done  34 tasks      | elapsed:    0.1s\n",
      "[Parallel(n_jobs=-1)]: Done 184 tasks      | elapsed:    0.9s\n",
      "[Parallel(n_jobs=-1)]: Done 434 tasks      | elapsed:    2.1s\n",
      "[Parallel(n_jobs=-1)]: Done 784 tasks      | elapsed:    4.0s\n",
      "[Parallel(n_jobs=-1)]: Done 1234 tasks      | elapsed:    6.4s\n",
      "[Parallel(n_jobs=-1)]: Done 1784 tasks      | elapsed:    9.4s\n",
      "[Parallel(n_jobs=-1)]: Done 2015 out of 2015 | elapsed:   11.0s finished\n",
      "[Parallel(n_jobs=8)]: Using backend ThreadingBackend with 8 concurrent workers.\n",
      "[Parallel(n_jobs=8)]: Done  34 tasks      | elapsed:    0.0s\n",
      "[Parallel(n_jobs=8)]: Done 184 tasks      | elapsed:    0.2s\n",
      "[Parallel(n_jobs=8)]: Done 434 tasks      | elapsed:    0.7s\n",
      "[Parallel(n_jobs=8)]: Done 784 tasks      | elapsed:    1.2s\n",
      "[Parallel(n_jobs=8)]: Done 1234 tasks      | elapsed:    1.9s\n",
      "[Parallel(n_jobs=8)]: Done 1784 tasks      | elapsed:    2.7s\n",
      "[Parallel(n_jobs=8)]: Done 2015 out of 2015 | elapsed:    3.0s finished\n"
     ]
    },
    {
     "name": "stdout",
     "output_type": "stream",
     "text": [
      "[CV]  n_estimators=2015, min_samples_split=3, min_samples_leaf=5, max_samples=900, max_leaf_nodes=550, max_features=sqrt, max_depth=105, bootstrap=True, score=0.429, total=  16.7s\n",
      "[CV] n_estimators=1595, min_samples_split=3, min_samples_leaf=1, max_samples=1000, max_leaf_nodes=650, max_features=sqrt, max_depth=105, bootstrap=True \n"
     ]
    },
    {
     "name": "stderr",
     "output_type": "stream",
     "text": [
      "[Parallel(n_jobs=-1)]: Using backend ThreadingBackend with 8 concurrent workers.\n",
      "[Parallel(n_jobs=-1)]: Done  34 tasks      | elapsed:    0.1s\n",
      "[Parallel(n_jobs=-1)]: Done 184 tasks      | elapsed:    0.8s\n",
      "[Parallel(n_jobs=-1)]: Done 434 tasks      | elapsed:    2.2s\n",
      "[Parallel(n_jobs=-1)]: Done 784 tasks      | elapsed:    4.2s\n",
      "[Parallel(n_jobs=-1)]: Done 1234 tasks      | elapsed:    6.7s\n",
      "[Parallel(n_jobs=-1)]: Done 1595 out of 1595 | elapsed:    8.8s finished\n",
      "[Parallel(n_jobs=8)]: Using backend ThreadingBackend with 8 concurrent workers.\n",
      "[Parallel(n_jobs=8)]: Done  34 tasks      | elapsed:    0.0s\n",
      "[Parallel(n_jobs=8)]: Done 184 tasks      | elapsed:    0.1s\n",
      "[Parallel(n_jobs=8)]: Done 434 tasks      | elapsed:    0.4s\n",
      "[Parallel(n_jobs=8)]: Done 784 tasks      | elapsed:    0.8s\n",
      "[Parallel(n_jobs=8)]: Done 1234 tasks      | elapsed:    1.3s\n",
      "[Parallel(n_jobs=8)]: Done 1595 out of 1595 | elapsed:    1.7s finished\n"
     ]
    },
    {
     "name": "stdout",
     "output_type": "stream",
     "text": [
      "[CV]  n_estimators=1595, min_samples_split=3, min_samples_leaf=1, max_samples=1000, max_leaf_nodes=650, max_features=sqrt, max_depth=105, bootstrap=True, score=0.476, total=  12.8s\n",
      "[CV] n_estimators=1595, min_samples_split=3, min_samples_leaf=1, max_samples=1000, max_leaf_nodes=650, max_features=sqrt, max_depth=105, bootstrap=True \n"
     ]
    },
    {
     "name": "stderr",
     "output_type": "stream",
     "text": [
      "[Parallel(n_jobs=-1)]: Using backend ThreadingBackend with 8 concurrent workers.\n",
      "[Parallel(n_jobs=-1)]: Done  34 tasks      | elapsed:    0.1s\n",
      "[Parallel(n_jobs=-1)]: Done 184 tasks      | elapsed:    0.9s\n",
      "[Parallel(n_jobs=-1)]: Done 434 tasks      | elapsed:    2.2s\n",
      "[Parallel(n_jobs=-1)]: Done 784 tasks      | elapsed:    4.2s\n",
      "[Parallel(n_jobs=-1)]: Done 1234 tasks      | elapsed:    6.8s\n",
      "[Parallel(n_jobs=-1)]: Done 1595 out of 1595 | elapsed:    9.0s finished\n",
      "[Parallel(n_jobs=8)]: Using backend ThreadingBackend with 8 concurrent workers.\n",
      "[Parallel(n_jobs=8)]: Done  34 tasks      | elapsed:    0.0s\n",
      "[Parallel(n_jobs=8)]: Done 184 tasks      | elapsed:    0.2s\n",
      "[Parallel(n_jobs=8)]: Done 434 tasks      | elapsed:    0.5s\n",
      "[Parallel(n_jobs=8)]: Done 784 tasks      | elapsed:    0.9s\n",
      "[Parallel(n_jobs=8)]: Done 1234 tasks      | elapsed:    1.4s\n",
      "[Parallel(n_jobs=8)]: Done 1595 out of 1595 | elapsed:    1.8s finished\n"
     ]
    },
    {
     "name": "stdout",
     "output_type": "stream",
     "text": [
      "[CV]  n_estimators=1595, min_samples_split=3, min_samples_leaf=1, max_samples=1000, max_leaf_nodes=650, max_features=sqrt, max_depth=105, bootstrap=True, score=0.900, total=  13.2s\n",
      "[CV] n_estimators=1595, min_samples_split=3, min_samples_leaf=1, max_samples=1000, max_leaf_nodes=650, max_features=sqrt, max_depth=105, bootstrap=True \n"
     ]
    },
    {
     "name": "stderr",
     "output_type": "stream",
     "text": [
      "[Parallel(n_jobs=-1)]: Using backend ThreadingBackend with 8 concurrent workers.\n",
      "[Parallel(n_jobs=-1)]: Done  34 tasks      | elapsed:    0.0s\n",
      "[Parallel(n_jobs=-1)]: Done 184 tasks      | elapsed:    0.5s\n",
      "[Parallel(n_jobs=-1)]: Done 434 tasks      | elapsed:    1.7s\n",
      "[Parallel(n_jobs=-1)]: Done 784 tasks      | elapsed:    3.7s\n",
      "[Parallel(n_jobs=-1)]: Done 1234 tasks      | elapsed:    6.3s\n",
      "[Parallel(n_jobs=-1)]: Done 1595 out of 1595 | elapsed:    8.4s finished\n",
      "[Parallel(n_jobs=8)]: Using backend ThreadingBackend with 8 concurrent workers.\n",
      "[Parallel(n_jobs=8)]: Done  34 tasks      | elapsed:    0.0s\n",
      "[Parallel(n_jobs=8)]: Done 184 tasks      | elapsed:    0.1s\n",
      "[Parallel(n_jobs=8)]: Done 434 tasks      | elapsed:    0.4s\n",
      "[Parallel(n_jobs=8)]: Done 784 tasks      | elapsed:    0.8s\n",
      "[Parallel(n_jobs=8)]: Done 1234 tasks      | elapsed:    1.3s\n",
      "[Parallel(n_jobs=8)]: Done 1595 out of 1595 | elapsed:    1.7s finished\n"
     ]
    },
    {
     "name": "stdout",
     "output_type": "stream",
     "text": [
      "[CV]  n_estimators=1595, min_samples_split=3, min_samples_leaf=1, max_samples=1000, max_leaf_nodes=650, max_features=sqrt, max_depth=105, bootstrap=True, score=0.440, total=  12.7s\n",
      "[CV] n_estimators=2005, min_samples_split=4, min_samples_leaf=4, max_samples=1100, max_leaf_nodes=250, max_features=sqrt, max_depth=90, bootstrap=True \n"
     ]
    },
    {
     "name": "stderr",
     "output_type": "stream",
     "text": [
      "[Parallel(n_jobs=-1)]: Using backend ThreadingBackend with 8 concurrent workers.\n",
      "[Parallel(n_jobs=-1)]: Done  34 tasks      | elapsed:    0.1s\n",
      "[Parallel(n_jobs=-1)]: Done 184 tasks      | elapsed:    0.9s\n",
      "[Parallel(n_jobs=-1)]: Done 434 tasks      | elapsed:    2.3s\n",
      "[Parallel(n_jobs=-1)]: Done 784 tasks      | elapsed:    4.1s\n",
      "[Parallel(n_jobs=-1)]: Done 1234 tasks      | elapsed:    6.6s\n",
      "[Parallel(n_jobs=-1)]: Done 1784 tasks      | elapsed:    9.7s\n",
      "[Parallel(n_jobs=-1)]: Done 2005 out of 2005 | elapsed:   11.0s finished\n",
      "[Parallel(n_jobs=8)]: Using backend ThreadingBackend with 8 concurrent workers.\n",
      "[Parallel(n_jobs=8)]: Done  34 tasks      | elapsed:    0.0s\n",
      "[Parallel(n_jobs=8)]: Done 184 tasks      | elapsed:    0.1s\n",
      "[Parallel(n_jobs=8)]: Done 434 tasks      | elapsed:    0.4s\n",
      "[Parallel(n_jobs=8)]: Done 784 tasks      | elapsed:    0.8s\n",
      "[Parallel(n_jobs=8)]: Done 1234 tasks      | elapsed:    1.3s\n",
      "[Parallel(n_jobs=8)]: Done 1784 tasks      | elapsed:    1.9s\n",
      "[Parallel(n_jobs=8)]: Done 2005 out of 2005 | elapsed:    2.1s finished\n"
     ]
    },
    {
     "name": "stdout",
     "output_type": "stream",
     "text": [
      "[CV]  n_estimators=2005, min_samples_split=4, min_samples_leaf=4, max_samples=1100, max_leaf_nodes=250, max_features=sqrt, max_depth=90, bootstrap=True, score=0.475, total=  15.5s\n",
      "[CV] n_estimators=2005, min_samples_split=4, min_samples_leaf=4, max_samples=1100, max_leaf_nodes=250, max_features=sqrt, max_depth=90, bootstrap=True \n"
     ]
    },
    {
     "name": "stderr",
     "output_type": "stream",
     "text": [
      "[Parallel(n_jobs=-1)]: Using backend ThreadingBackend with 8 concurrent workers.\n",
      "[Parallel(n_jobs=-1)]: Done  34 tasks      | elapsed:    0.1s\n",
      "[Parallel(n_jobs=-1)]: Done 184 tasks      | elapsed:    0.9s\n",
      "[Parallel(n_jobs=-1)]: Done 434 tasks      | elapsed:    2.2s\n",
      "[Parallel(n_jobs=-1)]: Done 784 tasks      | elapsed:    4.1s\n",
      "[Parallel(n_jobs=-1)]: Done 1234 tasks      | elapsed:    6.6s\n",
      "[Parallel(n_jobs=-1)]: Done 1784 tasks      | elapsed:    9.6s\n",
      "[Parallel(n_jobs=-1)]: Done 2005 out of 2005 | elapsed:   10.8s finished\n",
      "[Parallel(n_jobs=8)]: Using backend ThreadingBackend with 8 concurrent workers.\n",
      "[Parallel(n_jobs=8)]: Done  34 tasks      | elapsed:    0.0s\n",
      "[Parallel(n_jobs=8)]: Done 184 tasks      | elapsed:    0.1s\n",
      "[Parallel(n_jobs=8)]: Done 434 tasks      | elapsed:    0.4s\n",
      "[Parallel(n_jobs=8)]: Done 784 tasks      | elapsed:    0.9s\n",
      "[Parallel(n_jobs=8)]: Done 1234 tasks      | elapsed:    1.4s\n",
      "[Parallel(n_jobs=8)]: Done 1784 tasks      | elapsed:    2.0s\n",
      "[Parallel(n_jobs=8)]: Done 2005 out of 2005 | elapsed:    2.2s finished\n"
     ]
    },
    {
     "name": "stdout",
     "output_type": "stream",
     "text": [
      "[CV]  n_estimators=2005, min_samples_split=4, min_samples_leaf=4, max_samples=1100, max_leaf_nodes=250, max_features=sqrt, max_depth=90, bootstrap=True, score=0.903, total=  15.8s\n",
      "[CV] n_estimators=2005, min_samples_split=4, min_samples_leaf=4, max_samples=1100, max_leaf_nodes=250, max_features=sqrt, max_depth=90, bootstrap=True \n"
     ]
    },
    {
     "name": "stderr",
     "output_type": "stream",
     "text": [
      "[Parallel(n_jobs=-1)]: Using backend ThreadingBackend with 8 concurrent workers.\n",
      "[Parallel(n_jobs=-1)]: Done  34 tasks      | elapsed:    0.1s\n",
      "[Parallel(n_jobs=-1)]: Done 184 tasks      | elapsed:    0.9s\n",
      "[Parallel(n_jobs=-1)]: Done 434 tasks      | elapsed:    2.3s\n",
      "[Parallel(n_jobs=-1)]: Done 784 tasks      | elapsed:    4.0s\n",
      "[Parallel(n_jobs=-1)]: Done 1234 tasks      | elapsed:    6.4s\n",
      "[Parallel(n_jobs=-1)]: Done 1784 tasks      | elapsed:    9.4s\n",
      "[Parallel(n_jobs=-1)]: Done 2005 out of 2005 | elapsed:   10.6s finished\n",
      "[Parallel(n_jobs=8)]: Using backend ThreadingBackend with 8 concurrent workers.\n",
      "[Parallel(n_jobs=8)]: Done  34 tasks      | elapsed:    0.0s\n",
      "[Parallel(n_jobs=8)]: Done 184 tasks      | elapsed:    0.2s\n",
      "[Parallel(n_jobs=8)]: Done 434 tasks      | elapsed:    0.5s\n",
      "[Parallel(n_jobs=8)]: Done 784 tasks      | elapsed:    0.9s\n",
      "[Parallel(n_jobs=8)]: Done 1234 tasks      | elapsed:    1.3s\n",
      "[Parallel(n_jobs=8)]: Done 1784 tasks      | elapsed:    1.9s\n",
      "[Parallel(n_jobs=8)]: Done 2005 out of 2005 | elapsed:    2.2s finished\n"
     ]
    },
    {
     "name": "stdout",
     "output_type": "stream",
     "text": [
      "[CV]  n_estimators=2005, min_samples_split=4, min_samples_leaf=4, max_samples=1100, max_leaf_nodes=250, max_features=sqrt, max_depth=90, bootstrap=True, score=0.412, total=  15.9s\n",
      "[CV] n_estimators=2005, min_samples_split=5, min_samples_leaf=4, max_samples=1000, max_leaf_nodes=650, max_features=auto, max_depth=80, bootstrap=False \n"
     ]
    },
    {
     "name": "stderr",
     "output_type": "stream",
     "text": [
      "[Parallel(n_jobs=-1)]: Using backend ThreadingBackend with 8 concurrent workers.\n",
      "[Parallel(n_jobs=-1)]: Done  34 tasks      | elapsed:    2.2s\n",
      "[Parallel(n_jobs=-1)]: Done 184 tasks      | elapsed:   11.0s\n",
      "[Parallel(n_jobs=-1)]: Done 434 tasks      | elapsed:   25.3s\n",
      "[Parallel(n_jobs=-1)]: Done 784 tasks      | elapsed:   45.8s\n",
      "[Parallel(n_jobs=-1)]: Done 1234 tasks      | elapsed:  1.2min\n",
      "[Parallel(n_jobs=-1)]: Done 1784 tasks      | elapsed:  1.7min\n",
      "[Parallel(n_jobs=-1)]: Done 2005 out of 2005 | elapsed:  1.9min finished\n",
      "[Parallel(n_jobs=8)]: Using backend ThreadingBackend with 8 concurrent workers.\n",
      "[Parallel(n_jobs=8)]: Done  34 tasks      | elapsed:    0.0s\n",
      "[Parallel(n_jobs=8)]: Done 184 tasks      | elapsed:    0.0s\n",
      "[Parallel(n_jobs=8)]: Done 434 tasks      | elapsed:    0.2s\n",
      "[Parallel(n_jobs=8)]: Done 784 tasks      | elapsed:    0.4s\n",
      "[Parallel(n_jobs=8)]: Done 1234 tasks      | elapsed:    0.7s\n",
      "[Parallel(n_jobs=8)]: Done 1784 tasks      | elapsed:    1.0s\n",
      "[Parallel(n_jobs=8)]: Done 2005 out of 2005 | elapsed:    1.2s finished\n"
     ]
    },
    {
     "name": "stdout",
     "output_type": "stream",
     "text": [
      "[CV]  n_estimators=2005, min_samples_split=5, min_samples_leaf=4, max_samples=1000, max_leaf_nodes=650, max_features=auto, max_depth=80, bootstrap=False, score=0.563, total= 2.0min\n",
      "[CV] n_estimators=2005, min_samples_split=5, min_samples_leaf=4, max_samples=1000, max_leaf_nodes=650, max_features=auto, max_depth=80, bootstrap=False \n"
     ]
    },
    {
     "name": "stderr",
     "output_type": "stream",
     "text": [
      "[Parallel(n_jobs=-1)]: Using backend ThreadingBackend with 8 concurrent workers.\n",
      "[Parallel(n_jobs=-1)]: Done  34 tasks      | elapsed:    2.3s\n",
      "[Parallel(n_jobs=-1)]: Done 184 tasks      | elapsed:   11.2s\n",
      "[Parallel(n_jobs=-1)]: Done 434 tasks      | elapsed:   25.7s\n",
      "[Parallel(n_jobs=-1)]: Done 784 tasks      | elapsed:   45.9s\n",
      "[Parallel(n_jobs=-1)]: Done 1234 tasks      | elapsed:  1.2min\n",
      "[Parallel(n_jobs=-1)]: Done 1784 tasks      | elapsed:  1.7min\n",
      "[Parallel(n_jobs=-1)]: Done 2005 out of 2005 | elapsed:  1.9min finished\n",
      "[Parallel(n_jobs=8)]: Using backend ThreadingBackend with 8 concurrent workers.\n",
      "[Parallel(n_jobs=8)]: Done  34 tasks      | elapsed:    0.0s\n",
      "[Parallel(n_jobs=8)]: Done 184 tasks      | elapsed:    0.1s\n",
      "[Parallel(n_jobs=8)]: Done 434 tasks      | elapsed:    0.2s\n",
      "[Parallel(n_jobs=8)]: Done 784 tasks      | elapsed:    0.5s\n",
      "[Parallel(n_jobs=8)]: Done 1234 tasks      | elapsed:    0.8s\n",
      "[Parallel(n_jobs=8)]: Done 1784 tasks      | elapsed:    1.2s\n",
      "[Parallel(n_jobs=8)]: Done 2005 out of 2005 | elapsed:    1.4s finished\n"
     ]
    },
    {
     "name": "stdout",
     "output_type": "stream",
     "text": [
      "[CV]  n_estimators=2005, min_samples_split=5, min_samples_leaf=4, max_samples=1000, max_leaf_nodes=650, max_features=auto, max_depth=80, bootstrap=False, score=0.948, total= 2.0min\n",
      "[CV] n_estimators=2005, min_samples_split=5, min_samples_leaf=4, max_samples=1000, max_leaf_nodes=650, max_features=auto, max_depth=80, bootstrap=False \n"
     ]
    },
    {
     "name": "stderr",
     "output_type": "stream",
     "text": [
      "[Parallel(n_jobs=-1)]: Using backend ThreadingBackend with 8 concurrent workers.\n",
      "[Parallel(n_jobs=-1)]: Done  34 tasks      | elapsed:    2.2s\n",
      "[Parallel(n_jobs=-1)]: Done 184 tasks      | elapsed:   10.5s\n",
      "[Parallel(n_jobs=-1)]: Done 434 tasks      | elapsed:   24.3s\n",
      "[Parallel(n_jobs=-1)]: Done 784 tasks      | elapsed:   44.1s\n",
      "[Parallel(n_jobs=-1)]: Done 1234 tasks      | elapsed:  1.2min\n",
      "[Parallel(n_jobs=-1)]: Done 1784 tasks      | elapsed:  1.7min\n",
      "[Parallel(n_jobs=-1)]: Done 2005 out of 2005 | elapsed:  1.9min finished\n",
      "[Parallel(n_jobs=8)]: Using backend ThreadingBackend with 8 concurrent workers.\n",
      "[Parallel(n_jobs=8)]: Done  34 tasks      | elapsed:    0.0s\n",
      "[Parallel(n_jobs=8)]: Done 184 tasks      | elapsed:    0.1s\n",
      "[Parallel(n_jobs=8)]: Done 434 tasks      | elapsed:    0.3s\n",
      "[Parallel(n_jobs=8)]: Done 784 tasks      | elapsed:    0.5s\n",
      "[Parallel(n_jobs=8)]: Done 1234 tasks      | elapsed:    1.0s\n",
      "[Parallel(n_jobs=8)]: Done 1784 tasks      | elapsed:    1.5s\n",
      "[Parallel(n_jobs=8)]: Done 2005 out of 2005 | elapsed:    1.7s finished\n",
      "[Parallel(n_jobs=1)]: Done  30 out of  30 | elapsed: 22.7min finished\n"
     ]
    },
    {
     "name": "stdout",
     "output_type": "stream",
     "text": [
      "[CV]  n_estimators=2005, min_samples_split=5, min_samples_leaf=4, max_samples=1000, max_leaf_nodes=650, max_features=auto, max_depth=80, bootstrap=False, score=0.806, total= 1.9min\n"
     ]
    },
    {
     "name": "stderr",
     "output_type": "stream",
     "text": [
      "[Parallel(n_jobs=-1)]: Using backend ThreadingBackend with 8 concurrent workers.\n",
      "[Parallel(n_jobs=-1)]: Done  34 tasks      | elapsed:    3.2s\n",
      "[Parallel(n_jobs=-1)]: Done 184 tasks      | elapsed:   15.1s\n",
      "[Parallel(n_jobs=-1)]: Done 434 tasks      | elapsed:   35.1s\n",
      "[Parallel(n_jobs=-1)]: Done 784 tasks      | elapsed:  1.1min\n",
      "[Parallel(n_jobs=-1)]: Done 1234 tasks      | elapsed:  1.6min\n",
      "[Parallel(n_jobs=-1)]: Done 1784 tasks      | elapsed:  2.4min\n",
      "[Parallel(n_jobs=-1)]: Done 2020 out of 2020 | elapsed:  2.7min finished\n"
     ]
    },
    {
     "data": {
      "text/plain": [
       "{'n_estimators': 2020,\n",
       " 'min_samples_split': 3,\n",
       " 'min_samples_leaf': 5,\n",
       " 'max_samples': 1000,\n",
       " 'max_leaf_nodes': 450,\n",
       " 'max_features': 'auto',\n",
       " 'max_depth': 90,\n",
       " 'bootstrap': False}"
      ]
     },
     "execution_count": 4,
     "metadata": {},
     "output_type": "execute_result"
    }
   ],
   "source": [
    "with parallel_backend('threading'):\n",
    "    random_search.fit(X_train, y_train)\n",
    "random_search.best_params_"
   ]
  },
  {
   "cell_type": "markdown",
   "metadata": {},
   "source": [
    "This next section could be deleted, but I left it in here just to show how I tried to optimize the\n",
    "parameters even further, but I hadn't even made a plot yet. When I did the plot, it can be\n",
    "clearly seen that my approach is not good right now and I might need to try another model\n",
    "or another approach. Maybe another y/label would make the predictions better.\n",
    "But for right now, the data is way too complex for this model.\n",
    "\n",
    "This next code block could have been useful when I would have a model that\n",
    "is atleast doing something a little bit accurate.\n",
    "I think that I left way too many parameter values into the GridSearch, because the search took\n",
    "a really long time and in the end when I did the plot I saw that there is actually no point in\n",
    "finding better parameters anyways."
   ]
  },
  {
   "cell_type": "code",
   "execution_count": 5,
   "metadata": {},
   "outputs": [
    {
     "data": {
      "text/plain": [
       "\"\\nfrom sklearn.model_selection import GridSearchCV\\n\\nn_estimators = [1595, 1600, 1605, 1610, 1615, 1700, 1800, 1900, 1997, 1998, 1999, 2000, 2001, 2002, 2003, 2005, 2006]\\nmax_samples = [950, 970, 980, 990, 1000, 1010, 1040, 1050, 1070, 1100, 1150]\\nmax_features = [1, 2, 3, 4, 5, 6, 7, 8, 9, 10, 15, 20, 25, 30]\\nmax_depth = [70, 75, 78, 79, 80, 81, 82, 83, 84, 85, 87, 88, 90, 91, 92, 93, 95, 97, 100]\\nmin_samples_split = [3, 4, 5, 6, 7]\\nmin_samples_leaf = [1, 2, 3, 4, 5, 6]\\nmax_leaf_nodes = [100, 125, 150, 175, 200, 225, 250, 275, 300, 350, 400, 450, 500, 525, 550, 575, 600, 625, 650, 675, 700]\\nbootstrap = [True, False]\\n\\nparam_grid = {'n_estimators': n_estimators,\\n               'max_samples': max_samples,\\n               'max_features': max_features,\\n               'max_depth': max_depth,\\n               'min_samples_split': min_samples_split,\\n               'min_samples_leaf': min_samples_leaf,\\n               'max_leaf_nodes':max_leaf_nodes,\\n               'bootstrap': bootstrap}\\n\\nrf = RandomForestRegressor(n_jobs=-1, verbose=1)\\n\\ngrid_search = GridSearchCV(estimator=rf, param_grid=param_grid, cv=3, verbose=10,\\n                           n_jobs=1, pre_dispatch=1)\\n                           \\nwith parallel_backend('threading'):\\n    grid_search.fit(X_train, y_train)\\ngrid_search.best_params_\\n\\n\""
      ]
     },
     "execution_count": 5,
     "metadata": {},
     "output_type": "execute_result"
    }
   ],
   "source": [
    "'''\n",
    "from sklearn.model_selection import GridSearchCV\n",
    "\n",
    "n_estimators = [1595, 1600, 1605, 1610, 1615, 1700, 1800, 1900, 1997, 1998, 1999, 2000, 2001, 2002, 2003, 2005, 2006]\n",
    "max_samples = [950, 970, 980, 990, 1000, 1010, 1040, 1050, 1070, 1100, 1150]\n",
    "max_features = [1, 2, 3, 4, 5, 6, 7, 8, 9, 10, 15, 20, 25, 30]\n",
    "max_depth = [70, 75, 78, 79, 80, 81, 82, 83, 84, 85, 87, 88, 90, 91, 92, 93, 95, 97, 100]\n",
    "min_samples_split = [3, 4, 5, 6, 7]\n",
    "min_samples_leaf = [1, 2, 3, 4, 5, 6]\n",
    "max_leaf_nodes = [100, 125, 150, 175, 200, 225, 250, 275, 300, 350, 400, 450, 500, 525, 550, 575, 600, 625, 650, 675, 700]\n",
    "bootstrap = [True, False]\n",
    "\n",
    "param_grid = {'n_estimators': n_estimators,\n",
    "               'max_samples': max_samples,\n",
    "               'max_features': max_features,\n",
    "               'max_depth': max_depth,\n",
    "               'min_samples_split': min_samples_split,\n",
    "               'min_samples_leaf': min_samples_leaf,\n",
    "               'max_leaf_nodes':max_leaf_nodes,\n",
    "               'bootstrap': bootstrap}\n",
    "\n",
    "rf = RandomForestRegressor(n_jobs=-1, verbose=1)\n",
    "\n",
    "grid_search = GridSearchCV(estimator=rf, param_grid=param_grid, cv=3, verbose=10,\n",
    "                           n_jobs=1, pre_dispatch=1)\n",
    "                           \n",
    "with parallel_backend('threading'):\n",
    "    grid_search.fit(X_train, y_train)\n",
    "grid_search.best_params_\n",
    "\n",
    "'''"
   ]
  },
  {
   "cell_type": "markdown",
   "metadata": {},
   "source": [
    "The next part is constructing a plot. Seeing some actual results. The results are not good, the model does not work even a little bit. After constructing a plot and trying a couple of different labels/values for the y column, I understood that there is most likely no point in trying to create a better model with RandomForestRegressor."
   ]
  },
  {
   "cell_type": "code",
   "execution_count": 6,
   "metadata": {},
   "outputs": [],
   "source": [
    "rf = RandomForestRegressor(n_estimators=2005, min_samples_split=4,\n",
    "                           min_samples_leaf=4, max_samples=1000, max_leaf_nodes=500,\n",
    "                           max_features='auto', max_depth=90, bootstrap=True)\n",
    "\n",
    "with parallel_backend('threading'):\n",
    "    rf.fit(X_train, y_train)"
   ]
  },
  {
   "cell_type": "code",
   "execution_count": 7,
   "metadata": {},
   "outputs": [],
   "source": [
    "df_test = pd.read_csv(\"BTCUSDT_2020.11.20-2020.11.20_ML.csv\")\n",
    "rf_plot_pred = rf.predict(df_test)\n",
    "\n",
    "max_price = 0.0\n",
    "pricearray = df_test[\"price\"].values\n",
    "y = []\n",
    "for i in range(len(pricearray)):\n",
    "    for j in range(100):\n",
    "        if pricearray[i+j+1] > max_price:\n",
    "            max_price = pricearray[i+j+1]\n",
    "    y.append(max_price)\n",
    "    max_price = 0.0\n",
    "    if i == len(pricearray)-101:\n",
    "        break\n",
    "df_test.drop(df.tail(100).index,inplace=True)"
   ]
  },
  {
   "cell_type": "code",
   "execution_count": 8,
   "metadata": {},
   "outputs": [
    {
     "data": {
      "image/png": "[encoded data removed]",
      "text/plain": [
       "<Figure size 1080x1440 with 1 Axes>"
      ]
     },
     "metadata": {
      "needs_background": "light"
     },
     "output_type": "display_data"
    }
   ],
   "source": [
    "X_price = df_test[\"price\"].values\n",
    "\n",
    "fig = plt.figure(figsize=(15,20))\n",
    "ax12 = fig.add_subplot(312)\n",
    "ax12.plot(X_price,linewidth=1, label='BTCUSD Price')\n",
    "ax12.plot(y, label='Max price (100 timesteps)')\n",
    "ax12.plot(rf_plot_pred, linewidth=1, label='Max price prediction')\n",
    "ax12.set_title(\"RandomForestRegressor\", fontsize=18)\n",
    "ax12.set_ylabel('Price')\n",
    "ax12.legend(loc=\"best\", fontsize=12)\n",
    "\n",
    "plt.show()"
   ]
  },
  {
   "cell_type": "code",
   "execution_count": 9,
   "metadata": {},
   "outputs": [
    {
     "data": {
      "image/png": "[encoded data removed]",
      "text/plain": [
       "<IPython.core.display.Image object>"
      ]
     },
     "execution_count": 9,
     "metadata": {},
     "output_type": "execute_result"
    }
   ],
   "source": [
    "#Importing a image of the plot inside the file, because the people who view this project\n",
    "#will not have the data, since it is too big to upload it to the repo.\n",
    "from IPython.display import Image\n",
    "Image(filename='plot_rf.png')"
   ]
  }
 ],
 "metadata": {
  "kernelspec": {
   "display_name": "Python 3",
   "language": "python",
   "name": "python3"
  },
  "language_info": {
   "codemirror_mode": {
    "name": "ipython",
    "version": 3
   },
   "file_extension": ".py",
   "mimetype": "text/x-python",
   "name": "python",
   "nbconvert_exporter": "python",
   "pygments_lexer": "ipython3",
   "version": "3.8.3"
  }
 },
 "nbformat": 4,
 "nbformat_minor": 4
}

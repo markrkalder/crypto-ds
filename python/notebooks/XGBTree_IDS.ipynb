{
 "cells": [
  {
   "cell_type": "markdown",
   "metadata": {},
   "source": [
    "\n",
    "# XGBoost"
   ]
  },
  {
   "cell_type": "markdown",
   "metadata": {},
   "source": [
    "Imports"
   ]
  },
  {
   "cell_type": "code",
   "execution_count": 1,
   "metadata": {
    "pycharm": {
     "is_executing": false,
     "name": "#%%\n"
    }
   },
   "outputs": [],
   "source": [
    "import pandas as pd\n",
    "import numpy as np\n",
    "import xgboost as xgb\n",
    "import matplotlib.pyplot as plt"
   ]
  },
  {
   "cell_type": "markdown",
   "metadata": {},
   "source": [
    "Generate  learner data"
   ]
  },
  {
   "cell_type": "code",
   "execution_count": 2,
   "metadata": {
    "pycharm": {
     "is_executing": false,
     "name": "#%%\n"
    }
   },
   "outputs": [],
   "source": [
    "df = pd.read_csv('BTCUSDT_2020.11.30-2020.12.07_ML.csv')\n",
    "df.drop(['time'], axis=1, inplace=True)\n",
    "\n",
    "prices = df['price'].values\n",
    "lines = len(df)\n",
    "y = []\n",
    "calculate_forward = 100\n",
    "minimum = min(prices[0:calculate_forward])\n",
    "last_minimum_row = 0\n",
    "\n",
    "for i in range (0, calculate_forward):\n",
    "    if prices[i] == minimum:\n",
    "        last_minimum_row = i\n",
    "\n",
    "for i in range(calculate_forward,lines):\n",
    "    if last_minimum_row<i-calculate_forward:\n",
    "        minimum = min(prices[i-calculate_forward:i])\n",
    "        for j in range (i-calculate_forward, i):\n",
    "            if prices[j] == minimum:\n",
    "                last_minimum_row = j\n",
    "\n",
    "    elif prices[i] <= minimum:\n",
    "        last_minimum_row = i\n",
    "        minimum = prices[i]\n",
    "    y.append((minimum-prices[i-calculate_forward])/prices[i-calculate_forward])\n"
   ]
  },
  {
   "cell_type": "markdown",
   "metadata": {
    "pycharm": {
     "name": "#%% md\n"
    }
   },
   "source": [
    "Generate test data\n"
   ]
  },
  {
   "cell_type": "code",
   "execution_count": 12,
   "metadata": {
    "pycharm": {
     "is_executing": false,
     "name": "#%%\n"
    }
   },
   "outputs": [],
   "source": [
    "df_test = pd.read_csv('BTCUSDT_2020.12.07-2020.12.10_ML.csv').iloc[:4000]\n",
    "df_test.drop(['time'], axis=1, inplace=True)\n",
    "\n",
    "prices_test = df_test['price'].values\n",
    "lines_test = len(df_test)\n",
    "y_test = []\n",
    "minimum_test = min(prices[0:calculate_forward])\n",
    "last_minimum_row_test = 0\n",
    "\n",
    "for i in range (0, calculate_forward):\n",
    "    if prices_test[i] == minimum_test:\n",
    "        last_minimum_row_test = i\n",
    "\n",
    "for i in range(calculate_forward,lines_test):\n",
    "    if last_minimum_row_test<i-calculate_forward:\n",
    "        minimum_test = min(prices_test[i-calculate_forward:i])\n",
    "        for j in range (i-calculate_forward, i):\n",
    "            if prices_test[j] == minimum_test:\n",
    "                last_minimum_row_test = j\n",
    "\n",
    "    elif prices_test[i] <= minimum_test:\n",
    "        last_minimum_row_test = i\n",
    "        minimum_test = prices_test[i]\n",
    "    y_test.append((minimum_test-prices_test[i-calculate_forward])/prices_test[i-calculate_forward])\n"
   ]
  },
  {
   "cell_type": "markdown",
   "metadata": {
    "pycharm": {
     "name": "#%% md\n"
    }
   },
   "source": [
    "Validate that data is correct, Some mismatches might occur due to pythons calculation error"
   ]
  },
  {
   "cell_type": "code",
   "execution_count": 14,
   "metadata": {
    "pycharm": {
     "is_executing": false,
     "name": "#%%\n"
    }
   },
   "outputs": [
    {
     "name": "stdout",
     "output_type": "stream",
     "text": [
      "Mismatches:  21329 out of 5242681\n"
     ]
    }
   ],
   "source": [
    "mismatches = 0\n",
    "for i in range(0,len(y)):\n",
    "    a = (1+y[i])*prices[i]\n",
    "    if a != min(prices[i:i+calculate_forward+1]):\n",
    "        #print(f'{i} {a} {min(prices[i:i+calculate_forward])}')\n",
    "        mismatches += 1\n",
    "print(f'{\"Mismatches: \"} {mismatches} {\"out of\"} {len(y)}')"
   ]
  },
  {
   "cell_type": "code",
   "execution_count": 13,
   "metadata": {
    "pycharm": {
     "is_executing": false,
     "name": "#%%\n"
    }
   },
   "outputs": [
    {
     "name": "stdout",
     "output_type": "stream",
     "text": [
      "Mismatches:  1 out of 3900\n"
     ]
    }
   ],
   "source": [
    "test_mismatches = 0\n",
    "for i in range(0,len(y_test)):\n",
    "    a_test = (1+y_test[i])*prices_test[i]\n",
    "    if a_test != min(prices_test[i:i+calculate_forward+1]):\n",
    "        #print(f'{i} {a_test} {min(prices_test[i:i+calculate_forward])}')\n",
    "        test_mismatches += 1\n",
    "print(f'{\"Mismatches: \"} {test_mismatches} {\"out of\"} {len(y_test)}')"
   ]
  },
  {
   "cell_type": "markdown",
   "metadata": {
    "pycharm": {
     "name": "#%% md\n"
    }
   },
   "source": [
    "## Data"
   ]
  },
  {
   "cell_type": "code",
   "execution_count": 15,
   "metadata": {
    "pycharm": {
     "is_executing": false,
     "name": "#%%\n"
    }
   },
   "outputs": [
    {
     "name": "stdout",
     "output_type": "stream",
     "text": [
      "5242681\n",
      "5242681\n"
     ]
    }
   ],
   "source": [
    "X_test = df_test.drop('price', axis=1).values[:-calculate_forward]\n",
    "\n",
    "X_train = df.drop('price', axis=1).values[:-calculate_forward]\n",
    "y_train = y\n",
    "print(len(X_train))\n",
    "print(len(y_train))\n"
   ]
  },
  {
   "cell_type": "markdown",
   "metadata": {
    "pycharm": {
     "name": "#%% md\n"
    }
   },
   "source": [
    "Disabled as linear does not seem to be the way to go here"
   ]
  },
  {
   "cell_type": "code",
   "execution_count": null,
   "metadata": {
    "pycharm": {
     "is_executing": false,
     "name": "#%%\n"
    }
   },
   "outputs": [],
   "source": [
    "# linear_model = xgb.XGBRegressor(\n",
    "#     base_score=0.5, \n",
    "#     booster='gblinear', \n",
    "#     colsample_bylevel=1,\n",
    "#     colsample_bytree=0.8, \n",
    "#     gamma=0, \n",
    "#     learning_rate=0.3,\n",
    "#     max_delta_step=0,\n",
    "#     max_depth=5,\n",
    "#     min_child_weight=1, \n",
    "#     missing=None, \n",
    "#     n_estimators=500,\n",
    "#     n_jobs=1, \n",
    "#     nthread=None,\n",
    "#     objective='reg:linear',\n",
    "#     random_state=0,\n",
    "#     reg_alpha=0,\n",
    "#     reg_lambda=1,\n",
    "#     scale_pos_weight=1,\n",
    "#     seed=None,\n",
    "#     subsample=0.5,\n",
    "#     verbosity=3,\n",
    "# )\n",
    "# print(\"start fit\")\n",
    "# linear_model.fit(\n",
    "#     X_train, \n",
    "#     y_train,\n",
    "#     verbose=True,\n",
    "#     early_stopping_rounds=1000,\n",
    "#     eval_set= [(X_train, y_train),(X_test, y_test)]\n",
    "# )\n",
    "# \n",
    "# linear_preds = linear_model.predict(X_test, ntree_limit=0)\n",
    "# from sklearn.metrics import mean_absolute_error\n",
    "# linear_mae = mean_absolute_error(y_test, linear_preds)\n",
    "# \n",
    "# np.expm1(linear_mae)"
   ]
  },
  {
   "cell_type": "markdown",
   "metadata": {
    "pycharm": {
     "name": "#%% md\n"
    }
   },
   "source": [
    "Teach the model"
   ]
  },
  {
   "cell_type": "code",
   "execution_count": 17,
   "metadata": {
    "pycharm": {
     "is_executing": false,
     "name": "#%%\n"
    }
   },
   "outputs": [
    {
     "name": "stdout",
     "output_type": "stream",
     "text": [
      "start fit\n",
      "[10:44:15] WARNING: C:/Users/Administrator/workspace/xgboost-win64_release_1.3.0/src/objective/regression_obj.cu:170: reg:linear is now deprecated in favor of reg:squarederror.\n",
      "[10:44:15] INFO: C:/Users/Administrator/workspace/xgboost-win64_release_1.3.0/src/gbm/gbtree.cc:146: Tree method is automatically selected to be 'approx' for faster speed. To use old behavior (exact greedy algorithm on single machine), set tree_method to 'exact'.\n",
      "[10:44:15] DEBUG: C:/Users/Administrator/workspace/xgboost-win64_release_1.3.0/src/gbm/gbtree.cc:154: Using tree method: 1\n",
      "[10:44:15] DEBUG: C:/Users/Administrator/workspace/xgboost-win64_release_1.3.0/src/gbm/gbtree.cc:119: Using updaters: grow_histmaker,prune\n",
      "[10:44:15] ======== Monitor: TreePruner ========\n",
      "[10:44:19] INFO: C:/Users/Administrator/workspace/xgboost-win64_release_1.3.0/src/tree/updater_prune.cc:101: tree pruning end, 0 extra nodes, 0 pruned nodes, max_depth=0\n",
      "[0]\tvalidation_0-rmse:0.35313\tvalidation_1-rmse:0.35006\n",
      "[10:44:21] INFO: C:/Users/Administrator/workspace/xgboost-win64_release_1.3.0/src/tree/updater_prune.cc:101: tree pruning end, 0 extra nodes, 0 pruned nodes, max_depth=0\n",
      "[1]\tvalidation_0-rmse:0.24873\tvalidation_1-rmse:0.24499\n",
      "[10:44:22] INFO: C:/Users/Administrator/workspace/xgboost-win64_release_1.3.0/src/tree/updater_prune.cc:101: tree pruning end, 0 extra nodes, 0 pruned nodes, max_depth=0\n",
      "[2]\tvalidation_0-rmse:0.17561\tvalidation_1-rmse:0.17144\n",
      "[10:44:23] INFO: C:/Users/Administrator/workspace/xgboost-win64_release_1.3.0/src/tree/updater_prune.cc:101: tree pruning end, 2 extra nodes, 0 pruned nodes, max_depth=1\n",
      "[3]\tvalidation_0-rmse:0.12234\tvalidation_1-rmse:0.11997\n",
      "[10:44:25] INFO: C:/Users/Administrator/workspace/xgboost-win64_release_1.3.0/src/tree/updater_prune.cc:101: tree pruning end, 2 extra nodes, 0 pruned nodes, max_depth=1\n",
      "[4]\tvalidation_0-rmse:0.08617\tvalidation_1-rmse:0.08394\n",
      "[10:44:27] INFO: C:/Users/Administrator/workspace/xgboost-win64_release_1.3.0/src/tree/updater_prune.cc:101: tree pruning end, 2 extra nodes, 0 pruned nodes, max_depth=1\n",
      "[5]\tvalidation_0-rmse:0.06075\tvalidation_1-rmse:0.05872\n",
      "[10:44:28] INFO: C:/Users/Administrator/workspace/xgboost-win64_release_1.3.0/src/tree/updater_prune.cc:101: tree pruning end, 2 extra nodes, 0 pruned nodes, max_depth=1\n",
      "[6]\tvalidation_0-rmse:0.04064\tvalidation_1-rmse:0.04107\n",
      "[10:44:30] INFO: C:/Users/Administrator/workspace/xgboost-win64_release_1.3.0/src/tree/updater_prune.cc:101: tree pruning end, 6 extra nodes, 0 pruned nodes, max_depth=2\n",
      "[7]\tvalidation_0-rmse:0.02823\tvalidation_1-rmse:0.02872\n",
      "[10:44:32] INFO: C:/Users/Administrator/workspace/xgboost-win64_release_1.3.0/src/tree/updater_prune.cc:101: tree pruning end, 8 extra nodes, 0 pruned nodes, max_depth=3\n",
      "[8]\tvalidation_0-rmse:0.01977\tvalidation_1-rmse:0.02008\n",
      "[10:44:35] INFO: C:/Users/Administrator/workspace/xgboost-win64_release_1.3.0/src/tree/updater_prune.cc:101: tree pruning end, 18 extra nodes, 0 pruned nodes, max_depth=5\n",
      "[9]\tvalidation_0-rmse:0.01388\tvalidation_1-rmse:0.01405\n",
      "[10:44:38] INFO: C:/Users/Administrator/workspace/xgboost-win64_release_1.3.0/src/tree/updater_prune.cc:101: tree pruning end, 16 extra nodes, 0 pruned nodes, max_depth=5\n",
      "[10]\tvalidation_0-rmse:0.00978\tvalidation_1-rmse:0.00983\n",
      "[10:44:41] INFO: C:/Users/Administrator/workspace/xgboost-win64_release_1.3.0/src/tree/updater_prune.cc:101: tree pruning end, 38 extra nodes, 0 pruned nodes, max_depth=5\n",
      "[11]\tvalidation_0-rmse:0.00691\tvalidation_1-rmse:0.00688\n",
      "[10:44:44] INFO: C:/Users/Administrator/workspace/xgboost-win64_release_1.3.0/src/tree/updater_prune.cc:101: tree pruning end, 42 extra nodes, 0 pruned nodes, max_depth=5\n",
      "[12]\tvalidation_0-rmse:0.00487\tvalidation_1-rmse:0.00483\n",
      "[10:44:47] INFO: C:/Users/Administrator/workspace/xgboost-win64_release_1.3.0/src/tree/updater_prune.cc:101: tree pruning end, 50 extra nodes, 0 pruned nodes, max_depth=5\n",
      "[13]\tvalidation_0-rmse:0.00344\tvalidation_1-rmse:0.00341\n",
      "[10:44:50] INFO: C:/Users/Administrator/workspace/xgboost-win64_release_1.3.0/src/tree/updater_prune.cc:101: tree pruning end, 60 extra nodes, 0 pruned nodes, max_depth=5\n",
      "[14]\tvalidation_0-rmse:0.00239\tvalidation_1-rmse:0.00244\n",
      "[10:44:53] INFO: C:/Users/Administrator/workspace/xgboost-win64_release_1.3.0/src/tree/updater_prune.cc:101: tree pruning end, 44 extra nodes, 0 pruned nodes, max_depth=5\n",
      "[15]\tvalidation_0-rmse:0.00169\tvalidation_1-rmse:0.00178\n",
      "[10:44:56] INFO: C:/Users/Administrator/workspace/xgboost-win64_release_1.3.0/src/tree/updater_prune.cc:101: tree pruning end, 58 extra nodes, 0 pruned nodes, max_depth=5\n",
      "[16]\tvalidation_0-rmse:0.00121\tvalidation_1-rmse:0.00136\n",
      "[10:44:59] INFO: C:/Users/Administrator/workspace/xgboost-win64_release_1.3.0/src/tree/updater_prune.cc:101: tree pruning end, 56 extra nodes, 0 pruned nodes, max_depth=5\n",
      "[17]\tvalidation_0-rmse:0.00088\tvalidation_1-rmse:0.00111\n",
      "[10:45:02] INFO: C:/Users/Administrator/workspace/xgboost-win64_release_1.3.0/src/tree/updater_prune.cc:101: tree pruning end, 58 extra nodes, 0 pruned nodes, max_depth=5\n",
      "[18]\tvalidation_0-rmse:0.00066\tvalidation_1-rmse:0.00096\n",
      "[10:45:05] INFO: C:/Users/Administrator/workspace/xgboost-win64_release_1.3.0/src/tree/updater_prune.cc:101: tree pruning end, 60 extra nodes, 0 pruned nodes, max_depth=5\n",
      "[19]\tvalidation_0-rmse:0.00052\tvalidation_1-rmse:0.00089\n",
      "[10:45:08] INFO: C:/Users/Administrator/workspace/xgboost-win64_release_1.3.0/src/tree/updater_prune.cc:101: tree pruning end, 62 extra nodes, 0 pruned nodes, max_depth=5\n",
      "[20]\tvalidation_0-rmse:0.00043\tvalidation_1-rmse:0.00085\n",
      "[10:45:10] INFO: C:/Users/Administrator/workspace/xgboost-win64_release_1.3.0/src/tree/updater_prune.cc:101: tree pruning end, 48 extra nodes, 0 pruned nodes, max_depth=5\n",
      "[21]\tvalidation_0-rmse:0.00038\tvalidation_1-rmse:0.00084\n",
      "[10:45:13] INFO: C:/Users/Administrator/workspace/xgboost-win64_release_1.3.0/src/tree/updater_prune.cc:101: tree pruning end, 62 extra nodes, 0 pruned nodes, max_depth=5\n",
      "[22]\tvalidation_0-rmse:0.00035\tvalidation_1-rmse:0.00083\n",
      "[10:45:16] INFO: C:/Users/Administrator/workspace/xgboost-win64_release_1.3.0/src/tree/updater_prune.cc:101: tree pruning end, 56 extra nodes, 0 pruned nodes, max_depth=5\n",
      "[23]\tvalidation_0-rmse:0.00034\tvalidation_1-rmse:0.00082\n",
      "[10:45:19] INFO: C:/Users/Administrator/workspace/xgboost-win64_release_1.3.0/src/tree/updater_prune.cc:101: tree pruning end, 52 extra nodes, 0 pruned nodes, max_depth=5\n",
      "[24]\tvalidation_0-rmse:0.00033\tvalidation_1-rmse:0.00082\n",
      "[10:45:22] INFO: C:/Users/Administrator/workspace/xgboost-win64_release_1.3.0/src/tree/updater_prune.cc:101: tree pruning end, 62 extra nodes, 0 pruned nodes, max_depth=5\n",
      "[25]\tvalidation_0-rmse:0.00033\tvalidation_1-rmse:0.00082\n",
      "[10:45:25] INFO: C:/Users/Administrator/workspace/xgboost-win64_release_1.3.0/src/tree/updater_prune.cc:101: tree pruning end, 60 extra nodes, 0 pruned nodes, max_depth=5\n",
      "[26]\tvalidation_0-rmse:0.00033\tvalidation_1-rmse:0.00082\n",
      "[10:45:28] INFO: C:/Users/Administrator/workspace/xgboost-win64_release_1.3.0/src/tree/updater_prune.cc:101: tree pruning end, 60 extra nodes, 0 pruned nodes, max_depth=5\n",
      "[27]\tvalidation_0-rmse:0.00033\tvalidation_1-rmse:0.00083\n",
      "[10:45:31] INFO: C:/Users/Administrator/workspace/xgboost-win64_release_1.3.0/src/tree/updater_prune.cc:101: tree pruning end, 50 extra nodes, 0 pruned nodes, max_depth=5\n",
      "[28]\tvalidation_0-rmse:0.00033\tvalidation_1-rmse:0.00083\n",
      "[10:45:34] INFO: C:/Users/Administrator/workspace/xgboost-win64_release_1.3.0/src/tree/updater_prune.cc:101: tree pruning end, 62 extra nodes, 0 pruned nodes, max_depth=5\n",
      "[29]\tvalidation_0-rmse:0.00033\tvalidation_1-rmse:0.00083\n",
      "[10:45:37] INFO: C:/Users/Administrator/workspace/xgboost-win64_release_1.3.0/src/tree/updater_prune.cc:101: tree pruning end, 62 extra nodes, 0 pruned nodes, max_depth=5\n",
      "[30]\tvalidation_0-rmse:0.00033\tvalidation_1-rmse:0.00083\n",
      "[10:45:40] INFO: C:/Users/Administrator/workspace/xgboost-win64_release_1.3.0/src/tree/updater_prune.cc:101: tree pruning end, 56 extra nodes, 0 pruned nodes, max_depth=5\n",
      "[31]\tvalidation_0-rmse:0.00033\tvalidation_1-rmse:0.00083\n",
      "[10:45:43] INFO: C:/Users/Administrator/workspace/xgboost-win64_release_1.3.0/src/tree/updater_prune.cc:101: tree pruning end, 62 extra nodes, 0 pruned nodes, max_depth=5\n"
     ]
    },
    {
     "name": "stdout",
     "output_type": "stream",
     "text": [
      "[32]\tvalidation_0-rmse:0.00033\tvalidation_1-rmse:0.00083\n",
      "[10:45:46] INFO: C:/Users/Administrator/workspace/xgboost-win64_release_1.3.0/src/tree/updater_prune.cc:101: tree pruning end, 60 extra nodes, 0 pruned nodes, max_depth=5\n",
      "[33]\tvalidation_0-rmse:0.00033\tvalidation_1-rmse:0.00083\n",
      "[10:45:49] INFO: C:/Users/Administrator/workspace/xgboost-win64_release_1.3.0/src/tree/updater_prune.cc:101: tree pruning end, 56 extra nodes, 0 pruned nodes, max_depth=5\n",
      "[34]\tvalidation_0-rmse:0.00033\tvalidation_1-rmse:0.00083\n",
      "[10:45:52] INFO: C:/Users/Administrator/workspace/xgboost-win64_release_1.3.0/src/tree/updater_prune.cc:101: tree pruning end, 62 extra nodes, 0 pruned nodes, max_depth=5\n",
      "[35]\tvalidation_0-rmse:0.00033\tvalidation_1-rmse:0.00083\n",
      "[10:45:55] INFO: C:/Users/Administrator/workspace/xgboost-win64_release_1.3.0/src/tree/updater_prune.cc:101: tree pruning end, 56 extra nodes, 0 pruned nodes, max_depth=5\n",
      "[36]\tvalidation_0-rmse:0.00033\tvalidation_1-rmse:0.00083\n",
      "[10:45:58] INFO: C:/Users/Administrator/workspace/xgboost-win64_release_1.3.0/src/tree/updater_prune.cc:101: tree pruning end, 58 extra nodes, 0 pruned nodes, max_depth=5\n",
      "[37]\tvalidation_0-rmse:0.00033\tvalidation_1-rmse:0.00083\n",
      "[10:46:01] INFO: C:/Users/Administrator/workspace/xgboost-win64_release_1.3.0/src/tree/updater_prune.cc:101: tree pruning end, 54 extra nodes, 0 pruned nodes, max_depth=5\n",
      "[38]\tvalidation_0-rmse:0.00033\tvalidation_1-rmse:0.00083\n",
      "[10:46:04] INFO: C:/Users/Administrator/workspace/xgboost-win64_release_1.3.0/src/tree/updater_prune.cc:101: tree pruning end, 52 extra nodes, 0 pruned nodes, max_depth=5\n",
      "[39]\tvalidation_0-rmse:0.00033\tvalidation_1-rmse:0.00083\n",
      "[10:46:06] INFO: C:/Users/Administrator/workspace/xgboost-win64_release_1.3.0/src/tree/updater_prune.cc:101: tree pruning end, 56 extra nodes, 0 pruned nodes, max_depth=5\n",
      "[40]\tvalidation_0-rmse:0.00033\tvalidation_1-rmse:0.00083\n",
      "[10:46:09] INFO: C:/Users/Administrator/workspace/xgboost-win64_release_1.3.0/src/tree/updater_prune.cc:101: tree pruning end, 42 extra nodes, 0 pruned nodes, max_depth=5\n",
      "[41]\tvalidation_0-rmse:0.00033\tvalidation_1-rmse:0.00083\n",
      "[10:46:12] INFO: C:/Users/Administrator/workspace/xgboost-win64_release_1.3.0/src/tree/updater_prune.cc:101: tree pruning end, 52 extra nodes, 0 pruned nodes, max_depth=5\n",
      "[42]\tvalidation_0-rmse:0.00033\tvalidation_1-rmse:0.00083\n",
      "[10:46:15] INFO: C:/Users/Administrator/workspace/xgboost-win64_release_1.3.0/src/tree/updater_prune.cc:101: tree pruning end, 54 extra nodes, 0 pruned nodes, max_depth=5\n",
      "[43]\tvalidation_0-rmse:0.00032\tvalidation_1-rmse:0.00083\n",
      "[10:46:18] INFO: C:/Users/Administrator/workspace/xgboost-win64_release_1.3.0/src/tree/updater_prune.cc:101: tree pruning end, 56 extra nodes, 0 pruned nodes, max_depth=5\n",
      "[44]\tvalidation_0-rmse:0.00032\tvalidation_1-rmse:0.00083\n",
      "[10:46:21] INFO: C:/Users/Administrator/workspace/xgboost-win64_release_1.3.0/src/tree/updater_prune.cc:101: tree pruning end, 50 extra nodes, 0 pruned nodes, max_depth=5\n",
      "[45]\tvalidation_0-rmse:0.00032\tvalidation_1-rmse:0.00083\n",
      "[10:46:24] INFO: C:/Users/Administrator/workspace/xgboost-win64_release_1.3.0/src/tree/updater_prune.cc:101: tree pruning end, 56 extra nodes, 0 pruned nodes, max_depth=5\n",
      "[46]\tvalidation_0-rmse:0.00032\tvalidation_1-rmse:0.00083\n",
      "[10:46:27] INFO: C:/Users/Administrator/workspace/xgboost-win64_release_1.3.0/src/tree/updater_prune.cc:101: tree pruning end, 58 extra nodes, 0 pruned nodes, max_depth=5\n",
      "[47]\tvalidation_0-rmse:0.00032\tvalidation_1-rmse:0.00083\n",
      "[10:46:30] INFO: C:/Users/Administrator/workspace/xgboost-win64_release_1.3.0/src/tree/updater_prune.cc:101: tree pruning end, 48 extra nodes, 0 pruned nodes, max_depth=5\n",
      "[48]\tvalidation_0-rmse:0.00032\tvalidation_1-rmse:0.00083\n",
      "[10:46:33] INFO: C:/Users/Administrator/workspace/xgboost-win64_release_1.3.0/src/tree/updater_prune.cc:101: tree pruning end, 54 extra nodes, 0 pruned nodes, max_depth=5\n",
      "[49]\tvalidation_0-rmse:0.00032\tvalidation_1-rmse:0.00083\n",
      "[10:46:36] INFO: C:/Users/Administrator/workspace/xgboost-win64_release_1.3.0/src/tree/updater_prune.cc:101: tree pruning end, 58 extra nodes, 0 pruned nodes, max_depth=5\n",
      "[50]\tvalidation_0-rmse:0.00032\tvalidation_1-rmse:0.00083\n",
      "[10:46:39] INFO: C:/Users/Administrator/workspace/xgboost-win64_release_1.3.0/src/tree/updater_prune.cc:101: tree pruning end, 48 extra nodes, 0 pruned nodes, max_depth=5\n",
      "[51]\tvalidation_0-rmse:0.00032\tvalidation_1-rmse:0.00083\n",
      "[10:46:42] INFO: C:/Users/Administrator/workspace/xgboost-win64_release_1.3.0/src/tree/updater_prune.cc:101: tree pruning end, 58 extra nodes, 0 pruned nodes, max_depth=5\n",
      "[52]\tvalidation_0-rmse:0.00032\tvalidation_1-rmse:0.00083\n",
      "[10:46:45] INFO: C:/Users/Administrator/workspace/xgboost-win64_release_1.3.0/src/tree/updater_prune.cc:101: tree pruning end, 48 extra nodes, 0 pruned nodes, max_depth=5\n",
      "[53]\tvalidation_0-rmse:0.00032\tvalidation_1-rmse:0.00083\n",
      "[10:46:48] INFO: C:/Users/Administrator/workspace/xgboost-win64_release_1.3.0/src/tree/updater_prune.cc:101: tree pruning end, 52 extra nodes, 0 pruned nodes, max_depth=5\n",
      "[54]\tvalidation_0-rmse:0.00032\tvalidation_1-rmse:0.00083\n",
      "[10:46:51] INFO: C:/Users/Administrator/workspace/xgboost-win64_release_1.3.0/src/tree/updater_prune.cc:101: tree pruning end, 54 extra nodes, 0 pruned nodes, max_depth=5\n",
      "[55]\tvalidation_0-rmse:0.00032\tvalidation_1-rmse:0.00083\n",
      "[10:46:53] INFO: C:/Users/Administrator/workspace/xgboost-win64_release_1.3.0/src/tree/updater_prune.cc:101: tree pruning end, 54 extra nodes, 0 pruned nodes, max_depth=5\n",
      "[56]\tvalidation_0-rmse:0.00032\tvalidation_1-rmse:0.00083\n",
      "[10:46:56] INFO: C:/Users/Administrator/workspace/xgboost-win64_release_1.3.0/src/tree/updater_prune.cc:101: tree pruning end, 54 extra nodes, 0 pruned nodes, max_depth=5\n",
      "[57]\tvalidation_0-rmse:0.00032\tvalidation_1-rmse:0.00083\n",
      "[10:46:59] INFO: C:/Users/Administrator/workspace/xgboost-win64_release_1.3.0/src/tree/updater_prune.cc:101: tree pruning end, 56 extra nodes, 0 pruned nodes, max_depth=5\n",
      "[58]\tvalidation_0-rmse:0.00032\tvalidation_1-rmse:0.00083\n",
      "[10:47:02] INFO: C:/Users/Administrator/workspace/xgboost-win64_release_1.3.0/src/tree/updater_prune.cc:101: tree pruning end, 48 extra nodes, 0 pruned nodes, max_depth=5\n",
      "[59]\tvalidation_0-rmse:0.00032\tvalidation_1-rmse:0.00083\n",
      "[10:47:05] INFO: C:/Users/Administrator/workspace/xgboost-win64_release_1.3.0/src/tree/updater_prune.cc:101: tree pruning end, 56 extra nodes, 0 pruned nodes, max_depth=5\n",
      "[60]\tvalidation_0-rmse:0.00032\tvalidation_1-rmse:0.00083\n",
      "[10:47:08] INFO: C:/Users/Administrator/workspace/xgboost-win64_release_1.3.0/src/tree/updater_prune.cc:101: tree pruning end, 60 extra nodes, 0 pruned nodes, max_depth=5\n",
      "[61]\tvalidation_0-rmse:0.00032\tvalidation_1-rmse:0.00083\n",
      "[10:47:11] INFO: C:/Users/Administrator/workspace/xgboost-win64_release_1.3.0/src/tree/updater_prune.cc:101: tree pruning end, 44 extra nodes, 0 pruned nodes, max_depth=5\n",
      "[62]\tvalidation_0-rmse:0.00032\tvalidation_1-rmse:0.00083\n",
      "[10:47:14] INFO: C:/Users/Administrator/workspace/xgboost-win64_release_1.3.0/src/tree/updater_prune.cc:101: tree pruning end, 52 extra nodes, 0 pruned nodes, max_depth=5\n",
      "[63]\tvalidation_0-rmse:0.00032\tvalidation_1-rmse:0.00083\n",
      "[10:47:17] INFO: C:/Users/Administrator/workspace/xgboost-win64_release_1.3.0/src/tree/updater_prune.cc:101: tree pruning end, 50 extra nodes, 0 pruned nodes, max_depth=5\n",
      "[64]\tvalidation_0-rmse:0.00032\tvalidation_1-rmse:0.00083\n",
      "[10:47:20] INFO: C:/Users/Administrator/workspace/xgboost-win64_release_1.3.0/src/tree/updater_prune.cc:101: tree pruning end, 46 extra nodes, 0 pruned nodes, max_depth=5\n",
      "[65]\tvalidation_0-rmse:0.00032\tvalidation_1-rmse:0.00083\n",
      "[10:47:23] INFO: C:/Users/Administrator/workspace/xgboost-win64_release_1.3.0/src/tree/updater_prune.cc:101: tree pruning end, 56 extra nodes, 0 pruned nodes, max_depth=5\n",
      "[66]\tvalidation_0-rmse:0.00032\tvalidation_1-rmse:0.00083\n",
      "[10:47:26] INFO: C:/Users/Administrator/workspace/xgboost-win64_release_1.3.0/src/tree/updater_prune.cc:101: tree pruning end, 36 extra nodes, 0 pruned nodes, max_depth=5\n",
      "[67]\tvalidation_0-rmse:0.00032\tvalidation_1-rmse:0.00083\n",
      "[10:47:29] INFO: C:/Users/Administrator/workspace/xgboost-win64_release_1.3.0/src/tree/updater_prune.cc:101: tree pruning end, 60 extra nodes, 0 pruned nodes, max_depth=5\n"
     ]
    },
    {
     "name": "stdout",
     "output_type": "stream",
     "text": [
      "[68]\tvalidation_0-rmse:0.00032\tvalidation_1-rmse:0.00083\n",
      "[10:47:31] INFO: C:/Users/Administrator/workspace/xgboost-win64_release_1.3.0/src/tree/updater_prune.cc:101: tree pruning end, 56 extra nodes, 0 pruned nodes, max_depth=5\n",
      "[69]\tvalidation_0-rmse:0.00032\tvalidation_1-rmse:0.00083\n",
      "[10:47:34] INFO: C:/Users/Administrator/workspace/xgboost-win64_release_1.3.0/src/tree/updater_prune.cc:101: tree pruning end, 58 extra nodes, 0 pruned nodes, max_depth=5\n",
      "[70]\tvalidation_0-rmse:0.00032\tvalidation_1-rmse:0.00083\n",
      "[10:47:37] INFO: C:/Users/Administrator/workspace/xgboost-win64_release_1.3.0/src/tree/updater_prune.cc:101: tree pruning end, 48 extra nodes, 0 pruned nodes, max_depth=5\n",
      "[71]\tvalidation_0-rmse:0.00032\tvalidation_1-rmse:0.00083\n",
      "[10:47:40] INFO: C:/Users/Administrator/workspace/xgboost-win64_release_1.3.0/src/tree/updater_prune.cc:101: tree pruning end, 60 extra nodes, 0 pruned nodes, max_depth=5\n",
      "[72]\tvalidation_0-rmse:0.00032\tvalidation_1-rmse:0.00083\n",
      "[10:47:44] INFO: C:/Users/Administrator/workspace/xgboost-win64_release_1.3.0/src/tree/updater_prune.cc:101: tree pruning end, 54 extra nodes, 0 pruned nodes, max_depth=5\n",
      "[73]\tvalidation_0-rmse:0.00032\tvalidation_1-rmse:0.00083\n",
      "[10:47:46] INFO: C:/Users/Administrator/workspace/xgboost-win64_release_1.3.0/src/tree/updater_prune.cc:101: tree pruning end, 50 extra nodes, 0 pruned nodes, max_depth=5\n",
      "[74]\tvalidation_0-rmse:0.00032\tvalidation_1-rmse:0.00083\n",
      "[10:47:49] INFO: C:/Users/Administrator/workspace/xgboost-win64_release_1.3.0/src/tree/updater_prune.cc:101: tree pruning end, 48 extra nodes, 0 pruned nodes, max_depth=5\n",
      "[75]\tvalidation_0-rmse:0.00032\tvalidation_1-rmse:0.00083\n",
      "[10:47:51] INFO: C:/Users/Administrator/workspace/xgboost-win64_release_1.3.0/src/tree/updater_prune.cc:101: tree pruning end, 0 extra nodes, 0 pruned nodes, max_depth=0\n",
      "[76]\tvalidation_0-rmse:0.00032\tvalidation_1-rmse:0.00083\n",
      "[10:47:54] INFO: C:/Users/Administrator/workspace/xgboost-win64_release_1.3.0/src/tree/updater_prune.cc:101: tree pruning end, 62 extra nodes, 0 pruned nodes, max_depth=5\n",
      "[77]\tvalidation_0-rmse:0.00032\tvalidation_1-rmse:0.00083\n",
      "[10:47:55] INFO: C:/Users/Administrator/workspace/xgboost-win64_release_1.3.0/src/tree/updater_prune.cc:101: tree pruning end, 0 extra nodes, 0 pruned nodes, max_depth=0\n",
      "[78]\tvalidation_0-rmse:0.00032\tvalidation_1-rmse:0.00083\n",
      "[10:47:58] INFO: C:/Users/Administrator/workspace/xgboost-win64_release_1.3.0/src/tree/updater_prune.cc:101: tree pruning end, 46 extra nodes, 0 pruned nodes, max_depth=5\n",
      "[79]\tvalidation_0-rmse:0.00032\tvalidation_1-rmse:0.00083\n",
      "[10:48:01] INFO: C:/Users/Administrator/workspace/xgboost-win64_release_1.3.0/src/tree/updater_prune.cc:101: tree pruning end, 44 extra nodes, 0 pruned nodes, max_depth=5\n",
      "[80]\tvalidation_0-rmse:0.00032\tvalidation_1-rmse:0.00083\n",
      "[10:48:04] INFO: C:/Users/Administrator/workspace/xgboost-win64_release_1.3.0/src/tree/updater_prune.cc:101: tree pruning end, 50 extra nodes, 0 pruned nodes, max_depth=5\n",
      "[81]\tvalidation_0-rmse:0.00032\tvalidation_1-rmse:0.00083\n",
      "[10:48:07] INFO: C:/Users/Administrator/workspace/xgboost-win64_release_1.3.0/src/tree/updater_prune.cc:101: tree pruning end, 58 extra nodes, 0 pruned nodes, max_depth=5\n",
      "[82]\tvalidation_0-rmse:0.00032\tvalidation_1-rmse:0.00083\n",
      "[10:48:10] INFO: C:/Users/Administrator/workspace/xgboost-win64_release_1.3.0/src/tree/updater_prune.cc:101: tree pruning end, 62 extra nodes, 0 pruned nodes, max_depth=5\n",
      "[83]\tvalidation_0-rmse:0.00032\tvalidation_1-rmse:0.00083\n",
      "[10:48:13] INFO: C:/Users/Administrator/workspace/xgboost-win64_release_1.3.0/src/tree/updater_prune.cc:101: tree pruning end, 60 extra nodes, 0 pruned nodes, max_depth=5\n",
      "[84]\tvalidation_0-rmse:0.00032\tvalidation_1-rmse:0.00083\n",
      "[10:48:14] INFO: C:/Users/Administrator/workspace/xgboost-win64_release_1.3.0/src/tree/updater_prune.cc:101: tree pruning end, 0 extra nodes, 0 pruned nodes, max_depth=0\n",
      "[85]\tvalidation_0-rmse:0.00032\tvalidation_1-rmse:0.00083\n",
      "[10:48:17] INFO: C:/Users/Administrator/workspace/xgboost-win64_release_1.3.0/src/tree/updater_prune.cc:101: tree pruning end, 38 extra nodes, 0 pruned nodes, max_depth=5\n",
      "[86]\tvalidation_0-rmse:0.00032\tvalidation_1-rmse:0.00083\n",
      "[10:48:20] INFO: C:/Users/Administrator/workspace/xgboost-win64_release_1.3.0/src/tree/updater_prune.cc:101: tree pruning end, 50 extra nodes, 0 pruned nodes, max_depth=5\n",
      "[87]\tvalidation_0-rmse:0.00032\tvalidation_1-rmse:0.00083\n",
      "[10:48:23] INFO: C:/Users/Administrator/workspace/xgboost-win64_release_1.3.0/src/tree/updater_prune.cc:101: tree pruning end, 60 extra nodes, 0 pruned nodes, max_depth=5\n",
      "[88]\tvalidation_0-rmse:0.00032\tvalidation_1-rmse:0.00083\n",
      "[10:48:26] INFO: C:/Users/Administrator/workspace/xgboost-win64_release_1.3.0/src/tree/updater_prune.cc:101: tree pruning end, 58 extra nodes, 0 pruned nodes, max_depth=5\n",
      "[89]\tvalidation_0-rmse:0.00032\tvalidation_1-rmse:0.00083\n",
      "[10:48:27] INFO: C:/Users/Administrator/workspace/xgboost-win64_release_1.3.0/src/tree/updater_prune.cc:101: tree pruning end, 0 extra nodes, 0 pruned nodes, max_depth=0\n",
      "[90]\tvalidation_0-rmse:0.00032\tvalidation_1-rmse:0.00083\n",
      "[10:48:30] INFO: C:/Users/Administrator/workspace/xgboost-win64_release_1.3.0/src/tree/updater_prune.cc:101: tree pruning end, 46 extra nodes, 0 pruned nodes, max_depth=5\n",
      "[91]\tvalidation_0-rmse:0.00032\tvalidation_1-rmse:0.00083\n",
      "[10:48:33] INFO: C:/Users/Administrator/workspace/xgboost-win64_release_1.3.0/src/tree/updater_prune.cc:101: tree pruning end, 50 extra nodes, 0 pruned nodes, max_depth=5\n",
      "[92]\tvalidation_0-rmse:0.00032\tvalidation_1-rmse:0.00083\n",
      "[10:48:36] INFO: C:/Users/Administrator/workspace/xgboost-win64_release_1.3.0/src/tree/updater_prune.cc:101: tree pruning end, 44 extra nodes, 0 pruned nodes, max_depth=5\n",
      "[93]\tvalidation_0-rmse:0.00032\tvalidation_1-rmse:0.00083\n",
      "[10:48:39] INFO: C:/Users/Administrator/workspace/xgboost-win64_release_1.3.0/src/tree/updater_prune.cc:101: tree pruning end, 56 extra nodes, 0 pruned nodes, max_depth=5\n",
      "[94]\tvalidation_0-rmse:0.00032\tvalidation_1-rmse:0.00083\n",
      "[10:48:41] INFO: C:/Users/Administrator/workspace/xgboost-win64_release_1.3.0/src/tree/updater_prune.cc:101: tree pruning end, 46 extra nodes, 0 pruned nodes, max_depth=5\n",
      "[95]\tvalidation_0-rmse:0.00032\tvalidation_1-rmse:0.00083\n",
      "[10:48:43] INFO: C:/Users/Administrator/workspace/xgboost-win64_release_1.3.0/src/tree/updater_prune.cc:101: tree pruning end, 0 extra nodes, 0 pruned nodes, max_depth=0\n",
      "[96]\tvalidation_0-rmse:0.00032\tvalidation_1-rmse:0.00083\n",
      "[10:48:46] INFO: C:/Users/Administrator/workspace/xgboost-win64_release_1.3.0/src/tree/updater_prune.cc:101: tree pruning end, 52 extra nodes, 0 pruned nodes, max_depth=5\n",
      "[97]\tvalidation_0-rmse:0.00032\tvalidation_1-rmse:0.00083\n",
      "[10:48:48] INFO: C:/Users/Administrator/workspace/xgboost-win64_release_1.3.0/src/tree/updater_prune.cc:101: tree pruning end, 48 extra nodes, 0 pruned nodes, max_depth=5\n",
      "[98]\tvalidation_0-rmse:0.00032\tvalidation_1-rmse:0.00083\n",
      "[10:48:51] INFO: C:/Users/Administrator/workspace/xgboost-win64_release_1.3.0/src/tree/updater_prune.cc:101: tree pruning end, 60 extra nodes, 0 pruned nodes, max_depth=5\n",
      "[99]\tvalidation_0-rmse:0.00032\tvalidation_1-rmse:0.00083\n",
      "[10:48:54] INFO: C:/Users/Administrator/workspace/xgboost-win64_release_1.3.0/src/tree/updater_prune.cc:101: tree pruning end, 62 extra nodes, 0 pruned nodes, max_depth=5\n",
      "[100]\tvalidation_0-rmse:0.00032\tvalidation_1-rmse:0.00083\n",
      "[10:48:57] INFO: C:/Users/Administrator/workspace/xgboost-win64_release_1.3.0/src/tree/updater_prune.cc:101: tree pruning end, 46 extra nodes, 0 pruned nodes, max_depth=5\n",
      "[101]\tvalidation_0-rmse:0.00032\tvalidation_1-rmse:0.00083\n",
      "[10:49:00] INFO: C:/Users/Administrator/workspace/xgboost-win64_release_1.3.0/src/tree/updater_prune.cc:101: tree pruning end, 54 extra nodes, 0 pruned nodes, max_depth=5\n",
      "[102]\tvalidation_0-rmse:0.00032\tvalidation_1-rmse:0.00083\n",
      "[10:49:02] INFO: C:/Users/Administrator/workspace/xgboost-win64_release_1.3.0/src/tree/updater_prune.cc:101: tree pruning end, 20 extra nodes, 0 pruned nodes, max_depth=5\n",
      "[103]\tvalidation_0-rmse:0.00032\tvalidation_1-rmse:0.00083\n",
      "[10:49:05] INFO: C:/Users/Administrator/workspace/xgboost-win64_release_1.3.0/src/tree/updater_prune.cc:101: tree pruning end, 38 extra nodes, 0 pruned nodes, max_depth=5\n",
      "[104]\tvalidation_0-rmse:0.00032\tvalidation_1-rmse:0.00083\n"
     ]
    },
    {
     "name": "stdout",
     "output_type": "stream",
     "text": [
      "[10:49:06] INFO: C:/Users/Administrator/workspace/xgboost-win64_release_1.3.0/src/tree/updater_prune.cc:101: tree pruning end, 0 extra nodes, 0 pruned nodes, max_depth=0\n",
      "[105]\tvalidation_0-rmse:0.00032\tvalidation_1-rmse:0.00083\n",
      "[10:49:09] INFO: C:/Users/Administrator/workspace/xgboost-win64_release_1.3.0/src/tree/updater_prune.cc:101: tree pruning end, 52 extra nodes, 0 pruned nodes, max_depth=5\n",
      "[106]\tvalidation_0-rmse:0.00032\tvalidation_1-rmse:0.00083\n",
      "[10:49:10] INFO: C:/Users/Administrator/workspace/xgboost-win64_release_1.3.0/src/tree/updater_prune.cc:101: tree pruning end, 0 extra nodes, 0 pruned nodes, max_depth=0\n",
      "[107]\tvalidation_0-rmse:0.00032\tvalidation_1-rmse:0.00083\n",
      "[10:49:12] INFO: C:/Users/Administrator/workspace/xgboost-win64_release_1.3.0/src/tree/updater_prune.cc:101: tree pruning end, 0 extra nodes, 0 pruned nodes, max_depth=0\n",
      "[108]\tvalidation_0-rmse:0.00032\tvalidation_1-rmse:0.00083\n",
      "[10:49:15] INFO: C:/Users/Administrator/workspace/xgboost-win64_release_1.3.0/src/tree/updater_prune.cc:101: tree pruning end, 42 extra nodes, 0 pruned nodes, max_depth=5\n",
      "[109]\tvalidation_0-rmse:0.00032\tvalidation_1-rmse:0.00083\n",
      "[10:49:17] INFO: C:/Users/Administrator/workspace/xgboost-win64_release_1.3.0/src/tree/updater_prune.cc:101: tree pruning end, 18 extra nodes, 0 pruned nodes, max_depth=5\n",
      "[110]\tvalidation_0-rmse:0.00032\tvalidation_1-rmse:0.00083\n",
      "[10:49:20] INFO: C:/Users/Administrator/workspace/xgboost-win64_release_1.3.0/src/tree/updater_prune.cc:101: tree pruning end, 52 extra nodes, 0 pruned nodes, max_depth=5\n",
      "[111]\tvalidation_0-rmse:0.00032\tvalidation_1-rmse:0.00083\n",
      "[10:49:23] INFO: C:/Users/Administrator/workspace/xgboost-win64_release_1.3.0/src/tree/updater_prune.cc:101: tree pruning end, 54 extra nodes, 0 pruned nodes, max_depth=5\n",
      "[112]\tvalidation_0-rmse:0.00032\tvalidation_1-rmse:0.00083\n",
      "[10:49:26] INFO: C:/Users/Administrator/workspace/xgboost-win64_release_1.3.0/src/tree/updater_prune.cc:101: tree pruning end, 62 extra nodes, 0 pruned nodes, max_depth=5\n",
      "[113]\tvalidation_0-rmse:0.00032\tvalidation_1-rmse:0.00083\n",
      "[10:49:28] INFO: C:/Users/Administrator/workspace/xgboost-win64_release_1.3.0/src/tree/updater_prune.cc:101: tree pruning end, 24 extra nodes, 0 pruned nodes, max_depth=5\n",
      "[114]\tvalidation_0-rmse:0.00032\tvalidation_1-rmse:0.00083\n",
      "[10:49:31] INFO: C:/Users/Administrator/workspace/xgboost-win64_release_1.3.0/src/tree/updater_prune.cc:101: tree pruning end, 56 extra nodes, 0 pruned nodes, max_depth=5\n",
      "[115]\tvalidation_0-rmse:0.00032\tvalidation_1-rmse:0.00083\n",
      "[10:49:32] INFO: C:/Users/Administrator/workspace/xgboost-win64_release_1.3.0/src/tree/updater_prune.cc:101: tree pruning end, 0 extra nodes, 0 pruned nodes, max_depth=0\n",
      "[116]\tvalidation_0-rmse:0.00032\tvalidation_1-rmse:0.00083\n",
      "[10:49:35] INFO: C:/Users/Administrator/workspace/xgboost-win64_release_1.3.0/src/tree/updater_prune.cc:101: tree pruning end, 62 extra nodes, 0 pruned nodes, max_depth=5\n",
      "[117]\tvalidation_0-rmse:0.00032\tvalidation_1-rmse:0.00083\n",
      "[10:49:38] INFO: C:/Users/Administrator/workspace/xgboost-win64_release_1.3.0/src/tree/updater_prune.cc:101: tree pruning end, 48 extra nodes, 0 pruned nodes, max_depth=5\n",
      "[118]\tvalidation_0-rmse:0.00032\tvalidation_1-rmse:0.00083\n",
      "[10:49:40] INFO: C:/Users/Administrator/workspace/xgboost-win64_release_1.3.0/src/tree/updater_prune.cc:101: tree pruning end, 16 extra nodes, 0 pruned nodes, max_depth=5\n",
      "[119]\tvalidation_0-rmse:0.00032\tvalidation_1-rmse:0.00083\n",
      "[10:49:43] INFO: C:/Users/Administrator/workspace/xgboost-win64_release_1.3.0/src/tree/updater_prune.cc:101: tree pruning end, 26 extra nodes, 0 pruned nodes, max_depth=5\n",
      "[120]\tvalidation_0-rmse:0.00032\tvalidation_1-rmse:0.00083\n",
      "[10:49:44] INFO: C:/Users/Administrator/workspace/xgboost-win64_release_1.3.0/src/tree/updater_prune.cc:101: tree pruning end, 0 extra nodes, 0 pruned nodes, max_depth=0\n",
      "[121]\tvalidation_0-rmse:0.00032\tvalidation_1-rmse:0.00083\n",
      "[10:49:47] INFO: C:/Users/Administrator/workspace/xgboost-win64_release_1.3.0/src/tree/updater_prune.cc:101: tree pruning end, 30 extra nodes, 0 pruned nodes, max_depth=5\n",
      "[122]\tvalidation_0-rmse:0.00032\tvalidation_1-rmse:0.00083\n",
      "[10:49:49] INFO: C:/Users/Administrator/workspace/xgboost-win64_release_1.3.0/src/tree/updater_prune.cc:101: tree pruning end, 12 extra nodes, 0 pruned nodes, max_depth=5\n",
      "[10:49:49] ======== Monitor: Learner ========\n",
      "[10:49:49] Configure: 0.000594s, 1 calls @ 594us\n",
      "\n",
      "[10:49:49] EvalOneIter: 27.3984s, 124 calls @ 27398397us\n",
      "\n",
      "[10:49:49] GetGradient: 16.5182s, 124 calls @ 16518191us\n",
      "\n",
      "[10:49:49] PredictRaw: 0.006175s, 124 calls @ 6175us\n",
      "\n",
      "[10:49:49] UpdateOneIter: 306.113s, 124 calls @ 306112909us\n",
      "\n",
      "[10:49:49] ======== Monitor: GBTree ========\n",
      "[10:49:49] BoostNewTrees: 289.585s, 124 calls @ 289584751us\n",
      "\n",
      "[10:49:49] CommitModel: 7.8e-05s, 124 calls @ 78us\n",
      "\n",
      "[10:49:49] ======== Monitor: TreePruner ========\n",
      "[10:49:49] PrunerUpdate: 0.040579s, 124 calls @ 40579us\n",
      "\n"
     ]
    },
    {
     "data": {
      "text/plain": [
       "XGBRegressor(base_score=0.5, booster='gbtree', colsample_bylevel=1,\n",
       "             colsample_bynode=1, colsample_bytree=0.8, gamma=0, gpu_id=-1,\n",
       "             importance_type='gain', interaction_constraints='',\n",
       "             learning_rate=0.3, max_delta_step=0, max_depth=5,\n",
       "             min_child_weight=1, missing=None, monotone_constraints='()',\n",
       "             n_estimators=500, n_jobs=1, nthread=1, num_parallel_tree=1,\n",
       "             objective='reg:linear', random_state=0, reg_alpha=0, reg_lambda=1,\n",
       "             scale_pos_weight=1, seed=0, subsample=0.5, tree_method='approx',\n",
       "             validate_parameters=1, verbosity=3)"
      ]
     },
     "execution_count": 17,
     "metadata": {},
     "output_type": "execute_result"
    }
   ],
   "source": [
    "gb_tree_model = xgb.XGBRegressor(\n",
    "    base_score=0.5, \n",
    "    booster='gbtree', \n",
    "    colsample_bylevel=1,\n",
    "    colsample_bytree=0.8, \n",
    "    gamma=0, \n",
    "    learning_rate=0.3,\n",
    "    max_delta_step=0,\n",
    "    max_depth=5,\n",
    "    min_child_weight=1, \n",
    "    missing=None, \n",
    "    n_estimators=500,\n",
    "    n_jobs=1, \n",
    "    nthread=None,\n",
    "    objective='reg:linear',\n",
    "    random_state=0,\n",
    "    reg_alpha=0,\n",
    "    reg_lambda=1,\n",
    "    scale_pos_weight=1,\n",
    "    seed=None,\n",
    "    subsample=0.5,\n",
    "    verbosity=3,\n",
    ")\n",
    "print(\"start fit\")\n",
    "gb_tree_model.fit(\n",
    "    X_train, \n",
    "    y_train,\n",
    "    verbose=True,\n",
    "    early_stopping_rounds=100,\n",
    "    eval_set= [(X_train, y_train),(X_test, y_test)]\n",
    ")"
   ]
  },
  {
   "cell_type": "markdown",
   "metadata": {
    "pycharm": {
     "name": "#%% md\n"
    }
   },
   "source": [
    "Make predictions"
   ]
  },
  {
   "cell_type": "code",
   "execution_count": 19,
   "metadata": {
    "pycharm": {
     "is_executing": false,
     "name": "#%% \n"
    }
   },
   "outputs": [
    {
     "data": {
      "text/plain": [
       "0.00010516643314705908"
      ]
     },
     "execution_count": 19,
     "metadata": {},
     "output_type": "execute_result"
    }
   ],
   "source": [
    "gb_tree_preds = gb_tree_model.predict(X_test)\n",
    "from sklearn.metrics import mean_absolute_error\n",
    "mae = mean_absolute_error(y_test, gb_tree_preds)\n",
    "\n",
    "np.expm1(mae)"
   ]
  },
  {
   "cell_type": "markdown",
   "metadata": {
    "pycharm": {
     "name": "#%% md\n"
    }
   },
   "source": [
    "Recalculate prices to currency"
   ]
  },
  {
   "cell_type": "code",
   "execution_count": 20,
   "metadata": {
    "pycharm": {
     "is_executing": false,
     "name": "#%%\n"
    }
   },
   "outputs": [],
   "source": [
    "X_price = df_test['price'].values\n",
    "linear_plot_pred = []\n",
    "xgb_plot_pred = []\n",
    "plot_test = []\n",
    "for i in range(0, len(gb_tree_preds)):\n",
    "    #linear_plot_pred.append((1+linear_preds[i])*X_price[i])\n",
    "    xgb_plot_pred.append((1+gb_tree_preds[i])*X_price[i])\n",
    "    plot_test.append((1+y_test[i])*X_price[i])\n",
    "    "
   ]
  },
  {
   "cell_type": "markdown",
   "metadata": {
    "pycharm": {
     "name": "#%% md\n"
    }
   },
   "source": [
    "Save model"
   ]
  },
  {
   "cell_type": "code",
   "execution_count": 18,
   "metadata": {
    "pycharm": {
     "is_executing": false,
     "name": "#%%\n"
    }
   },
   "outputs": [],
   "source": [
    "gb_tree_model.save_model('gb_tree_model')"
   ]
  },
  {
   "cell_type": "markdown",
   "metadata": {
    "pycharm": {
     "name": "#%% md\n"
    }
   },
   "source": [
    "Plot it out"
   ]
  },
  {
   "cell_type": "code",
   "execution_count": 26,
   "metadata": {
    "pycharm": {
     "is_executing": false,
     "name": "#%%\n"
    }
   },
   "outputs": [
    {
     "data": {
      "image/png": "[encoded data removed]",
      "text/plain": [
       "<Figure size 1080x1440 with 1 Axes>"
      ]
     },
     "metadata": {
      "needs_background": "light"
     },
     "output_type": "display_data"
    }
   ],
   "source": [
    "fig = plt.figure(figsize=(15,20))\n",
    "del plot_test[0]\n",
    "#Plot training data results\n",
    "ax12 = fig.add_subplot(312)\n",
    "ax12.plot(X_price,linewidth=1, label='BTCUSD Price')\n",
    "ax12.plot(plot_test, label='Min price (100 timesteps)')\n",
    "#ax12.plot(linear_plot_pred, linewidth=1, label='Linear plot pred')\n",
    "ax12.plot(xgb_plot_pred, linewidth=1, label='Min price prediction')\n",
    "ax12.set_title(\"XGBoost\", fontsize=18)\n",
    "ax12.set_ylabel('Price')\n",
    "ax12.legend(loc=\"best\", fontsize=12)\n",
    "\n",
    "plt.show()"
   ]
  }
 ],
 "metadata": {
  "colab": {
   "name": "IDS2020_HW09.ipynb",
   "provenance": []
  },
  "kernelspec": {
   "display_name": "Python 3",
   "language": "python",
   "name": "python3"
  },
  "language_info": {
   "codemirror_mode": {
    "name": "ipython",
    "version": 3
   },
   "file_extension": ".py",
   "mimetype": "text/x-python",
   "name": "python",
   "nbconvert_exporter": "python",
   "pygments_lexer": "ipython3",
   "version": "3.8.3"
  },
  "pycharm": {
   "stem_cell": {
    "cell_type": "raw",
    "metadata": {
     "collapsed": false
    },
    "source": []
   }
  }
 },
 "nbformat": 4,
 "nbformat_minor": 1
}
